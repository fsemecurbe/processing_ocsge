{
 "cells": [
  {
   "cell_type": "code",
   "execution_count": 1,
   "metadata": {
    "id": "1LwU8UrfsSY9"
   },
   "outputs": [],
   "source": [
    "#!pip install py7zr \n",
    "import geopandas as gpd\n",
    "import pandas as pd\n",
    "import requests\n",
    "from bs4 import BeautifulSoup\n",
    "import zipfile\n",
    "import py7zr\n",
    "import os\n",
    "import shutil\n",
    "import getpass"
   ]
  },
  {
   "cell_type": "markdown",
   "metadata": {},
   "source": [
    "#### Gestion du proxy"
   ]
  },
  {
   "cell_type": "code",
   "execution_count": 4,
   "metadata": {},
   "outputs": [
    {
     "name": "stdin",
     "output_type": "stream",
     "text": [
      "http_proxy ········\n"
     ]
    }
   ],
   "source": [
    "http_proxy = getpass.getpass(prompt='http_proxy')"
   ]
  },
  {
   "cell_type": "code",
   "execution_count": 3,
   "metadata": {},
   "outputs": [
    {
     "name": "stdin",
     "output_type": "stream",
     "text": [
      "https_proxy ········\n"
     ]
    }
   ],
   "source": [
    "https_proxy = getpass.getpass(prompt='https_proxy')"
   ]
  },
  {
   "cell_type": "code",
   "execution_count": 5,
   "metadata": {
    "id": "LB1d45Mzsvd1"
   },
   "outputs": [],
   "source": [
    "req = \"https://geoservices.ign.fr/ocsge\""
   ]
  },
  {
   "cell_type": "code",
   "execution_count": 6,
   "metadata": {},
   "outputs": [],
   "source": [
    "proxies = { \"http\"  : http_proxy, \"https\" : https_proxy}"
   ]
  },
  {
   "cell_type": "code",
   "execution_count": 7,
   "metadata": {
    "id": "FeYsC64Us-O4"
   },
   "outputs": [],
   "source": [
    "page = requests.get(req, proxies=proxies)"
   ]
  },
  {
   "cell_type": "code",
   "execution_count": 8,
   "metadata": {
    "id": "6kYZyaULtFX0"
   },
   "outputs": [],
   "source": [
    "soup = BeautifulSoup(page.text, 'html.parser')"
   ]
  },
  {
   "cell_type": "code",
   "execution_count": 9,
   "metadata": {
    "id": "fuYh-8_-1i7O"
   },
   "outputs": [],
   "source": [
    "downloads = soup.findAll('a', href=True)"
   ]
  },
  {
   "cell_type": "markdown",
   "metadata": {
    "id": "44kJJUdcWqtf"
   },
   "source": [
    "Liste des départements disponibles"
   ]
  },
  {
   "cell_type": "code",
   "execution_count": 10,
   "metadata": {
    "id": "aLJYa_aN1xxC"
   },
   "outputs": [],
   "source": [
    "liste_ocsge = [download for download in downloads if \"OCS-GE_2-0\" in download['href']]\n",
    "liste_ocsge = pd.DataFrame({ 'name' : [item.find('strong').text if item.find('strong') else None for item in liste_ocsge],\n",
    "               'link' : [item['href'] for item in liste_ocsge] })\n",
    "\n",
    "\n",
    "liste_ocsge['codgeo'] = liste_ocsge.name.str.split(\" - \",expand=True)[0].str.slice(12,).str.strip()\n",
    "liste_ocsge['year'] = liste_ocsge.name.str.extract(r'(\\b\\d{4}\\b)')\n",
    "temp = liste_ocsge.name.str.extract(r'(\\b\\d{4}-\\d{4}\\b)')\n",
    "liste_ocsge.loc[~temp.isna().any(axis=1),'year'] = temp[~temp.isna().any(axis=1)][0]\n",
    "liste_ocsge = liste_ocsge[['codgeo', 'year', 'link', 'name']]\n"
   ]
  },
  {
   "cell_type": "code",
   "execution_count": 11,
   "metadata": {
    "colab": {
     "base_uri": "https://localhost:8080/",
     "height": 293
    },
    "id": "2EaG2TkNuyfU",
    "outputId": "66527c4e-eff2-4f0a-acf9-e4a4d1964a19"
   },
   "outputs": [
    {
     "data": {
      "text/html": [
       "<div>\n",
       "<style scoped>\n",
       "    .dataframe tbody tr th:only-of-type {\n",
       "        vertical-align: middle;\n",
       "    }\n",
       "\n",
       "    .dataframe tbody tr th {\n",
       "        vertical-align: top;\n",
       "    }\n",
       "\n",
       "    .dataframe thead th {\n",
       "        text-align: right;\n",
       "    }\n",
       "</style>\n",
       "<table border=\"1\" class=\"dataframe\">\n",
       "  <thead>\n",
       "    <tr style=\"text-align: right;\">\n",
       "      <th></th>\n",
       "      <th>codgeo</th>\n",
       "      <th>year</th>\n",
       "      <th>link</th>\n",
       "      <th>name</th>\n",
       "    </tr>\n",
       "  </thead>\n",
       "  <tbody>\n",
       "    <tr>\n",
       "      <th>0</th>\n",
       "      <td>01</td>\n",
       "      <td>2021</td>\n",
       "      <td>https://data.geopf.fr/telechargement/download/...</td>\n",
       "      <td>Département 01 - Ain - 2021</td>\n",
       "    </tr>\n",
       "    <tr>\n",
       "      <th>1</th>\n",
       "      <td>01</td>\n",
       "      <td>2018</td>\n",
       "      <td>https://data.geopf.fr/telechargement/download/...</td>\n",
       "      <td>Département 01 - Ain - 2018</td>\n",
       "    </tr>\n",
       "    <tr>\n",
       "      <th>2</th>\n",
       "      <td>01</td>\n",
       "      <td>2018-2021</td>\n",
       "      <td>https://data.geopf.fr/telechargement/download/...</td>\n",
       "      <td>Département 01 - Ain - différentiel - 2018-2021</td>\n",
       "    </tr>\n",
       "    <tr>\n",
       "      <th>3</th>\n",
       "      <td>15</td>\n",
       "      <td>2022</td>\n",
       "      <td>https://data.geopf.fr/telechargement/download/...</td>\n",
       "      <td>Département 15 - Cantal - 2022</td>\n",
       "    </tr>\n",
       "    <tr>\n",
       "      <th>4</th>\n",
       "      <td>15</td>\n",
       "      <td>2020</td>\n",
       "      <td>https://data.geopf.fr/telechargement/download/...</td>\n",
       "      <td>Département 15 - Cantal - 2020</td>\n",
       "    </tr>\n",
       "  </tbody>\n",
       "</table>\n",
       "</div>"
      ],
      "text/plain": [
       "  codgeo       year                                               link  \\\n",
       "0     01       2021  https://data.geopf.fr/telechargement/download/...   \n",
       "1     01       2018  https://data.geopf.fr/telechargement/download/...   \n",
       "2     01  2018-2021  https://data.geopf.fr/telechargement/download/...   \n",
       "3     15       2022  https://data.geopf.fr/telechargement/download/...   \n",
       "4     15       2020  https://data.geopf.fr/telechargement/download/...   \n",
       "\n",
       "                                              name  \n",
       "0                      Département 01 - Ain - 2021  \n",
       "1                      Département 01 - Ain - 2018  \n",
       "2  Département 01 - Ain - différentiel - 2018-2021  \n",
       "3                   Département 15 - Cantal - 2022  \n",
       "4                   Département 15 - Cantal - 2020  "
      ]
     },
     "execution_count": 11,
     "metadata": {},
     "output_type": "execute_result"
    }
   ],
   "source": [
    "liste_ocsge.head()"
   ]
  },
  {
   "cell_type": "code",
   "execution_count": 12,
   "metadata": {},
   "outputs": [],
   "source": [
    "#liste_ocsge.to_json('dep_dispo_2025-01-21.json')"
   ]
  },
  {
   "cell_type": "markdown",
   "metadata": {},
   "source": [
    "### Ouverture de la liste et traitement"
   ]
  },
  {
   "cell_type": "code",
   "execution_count": 55,
   "metadata": {
    "id": "KVtttsbEa_co"
   },
   "outputs": [
    {
     "data": {
      "text/plain": [
       "(198, 4)"
      ]
     },
     "execution_count": 55,
     "metadata": {},
     "output_type": "execute_result"
    }
   ],
   "source": [
    "liste_ocsge = pd.read_json('dep_dispo_2025-01-21.json')\n",
    "liste_ocsge.shape"
   ]
  },
  {
   "cell_type": "code",
   "execution_count": 56,
   "metadata": {
    "colab": {
     "base_uri": "https://localhost:8080/",
     "height": 1000
    },
    "id": "iMsdBnIUqYe2",
    "outputId": "cb7be90a-fe52-4574-cedf-384229a57a65"
   },
   "outputs": [
    {
     "data": {
      "text/html": [
       "<div>\n",
       "<style scoped>\n",
       "    .dataframe tbody tr th:only-of-type {\n",
       "        vertical-align: middle;\n",
       "    }\n",
       "\n",
       "    .dataframe tbody tr th {\n",
       "        vertical-align: top;\n",
       "    }\n",
       "\n",
       "    .dataframe thead th {\n",
       "        text-align: right;\n",
       "    }\n",
       "</style>\n",
       "<table border=\"1\" class=\"dataframe\">\n",
       "  <thead>\n",
       "    <tr style=\"text-align: right;\">\n",
       "      <th></th>\n",
       "      <th>codgeo</th>\n",
       "      <th>year</th>\n",
       "      <th>link</th>\n",
       "      <th>name</th>\n",
       "    </tr>\n",
       "  </thead>\n",
       "  <tbody>\n",
       "    <tr>\n",
       "      <th>0</th>\n",
       "      <td>01</td>\n",
       "      <td>2021</td>\n",
       "      <td>https://data.geopf.fr/telechargement/download/...</td>\n",
       "      <td>Département 01 - Ain - 2021</td>\n",
       "    </tr>\n",
       "    <tr>\n",
       "      <th>1</th>\n",
       "      <td>01</td>\n",
       "      <td>2018</td>\n",
       "      <td>https://data.geopf.fr/telechargement/download/...</td>\n",
       "      <td>Département 01 - Ain - 2018</td>\n",
       "    </tr>\n",
       "    <tr>\n",
       "      <th>3</th>\n",
       "      <td>15</td>\n",
       "      <td>2022</td>\n",
       "      <td>https://data.geopf.fr/telechargement/download/...</td>\n",
       "      <td>Département 15 - Cantal - 2022</td>\n",
       "    </tr>\n",
       "    <tr>\n",
       "      <th>4</th>\n",
       "      <td>15</td>\n",
       "      <td>2020</td>\n",
       "      <td>https://data.geopf.fr/telechargement/download/...</td>\n",
       "      <td>Département 15 - Cantal - 2020</td>\n",
       "    </tr>\n",
       "    <tr>\n",
       "      <th>6</th>\n",
       "      <td>38</td>\n",
       "      <td>2021</td>\n",
       "      <td>https://data.geopf.fr/telechargement/download/...</td>\n",
       "      <td>Département 38 - Isère - 2021</td>\n",
       "    </tr>\n",
       "  </tbody>\n",
       "</table>\n",
       "</div>"
      ],
      "text/plain": [
       "  codgeo  year                                               link  \\\n",
       "0     01  2021  https://data.geopf.fr/telechargement/download/...   \n",
       "1     01  2018  https://data.geopf.fr/telechargement/download/...   \n",
       "3     15  2022  https://data.geopf.fr/telechargement/download/...   \n",
       "4     15  2020  https://data.geopf.fr/telechargement/download/...   \n",
       "6     38  2021  https://data.geopf.fr/telechargement/download/...   \n",
       "\n",
       "                             name  \n",
       "0     Département 01 - Ain - 2021  \n",
       "1     Département 01 - Ain - 2018  \n",
       "3  Département 15 - Cantal - 2022  \n",
       "4  Département 15 - Cantal - 2020  \n",
       "6   Département 38 - Isère - 2021  "
      ]
     },
     "execution_count": 56,
     "metadata": {},
     "output_type": "execute_result"
    }
   ],
   "source": [
    "liste_ocsge_dep = liste_ocsge.copy()\n",
    "liste_ocsge_dep = liste_ocsge_dep[liste_ocsge_dep.year.str.len()==4]\n",
    "liste_ocsge_dep = liste_ocsge_dep\n",
    "liste_ocsge_dep.head()"
   ]
  },
  {
   "cell_type": "markdown",
   "metadata": {},
   "source": [
    "#### traitement spécifique"
   ]
  },
  {
   "cell_type": "markdown",
   "metadata": {},
   "source": [
    "Je récupère les fichiers non téléchargés"
   ]
  },
  {
   "cell_type": "code",
   "execution_count": 49,
   "metadata": {},
   "outputs": [],
   "source": [
    "import glob\n",
    "liste_termine = glob.glob(\"files_ocsge/*\")\n",
    "liste_termine = [file[12:].split('.')[0] for file in liste_termine]"
   ]
  },
  {
   "cell_type": "code",
   "execution_count": 57,
   "metadata": {},
   "outputs": [],
   "source": [
    "liste_ocsge_dep['name'] = liste_ocsge_dep.link.map(lambda x :x.split('/')[-1].split('.')[0])\n",
    "liste_ocsge_dep = liste_ocsge_dep[~liste_ocsge_dep.name.isin(liste_termine)]"
   ]
  },
  {
   "cell_type": "code",
   "execution_count": 58,
   "metadata": {},
   "outputs": [
    {
     "data": {
      "text/html": [
       "<div>\n",
       "<style scoped>\n",
       "    .dataframe tbody tr th:only-of-type {\n",
       "        vertical-align: middle;\n",
       "    }\n",
       "\n",
       "    .dataframe tbody tr th {\n",
       "        vertical-align: top;\n",
       "    }\n",
       "\n",
       "    .dataframe thead th {\n",
       "        text-align: right;\n",
       "    }\n",
       "</style>\n",
       "<table border=\"1\" class=\"dataframe\">\n",
       "  <thead>\n",
       "    <tr style=\"text-align: right;\">\n",
       "      <th></th>\n",
       "      <th>codgeo</th>\n",
       "      <th>year</th>\n",
       "      <th>link</th>\n",
       "      <th>name</th>\n",
       "    </tr>\n",
       "  </thead>\n",
       "  <tbody>\n",
       "    <tr>\n",
       "      <th>3</th>\n",
       "      <td>15</td>\n",
       "      <td>2022</td>\n",
       "      <td>https://data.geopf.fr/telechargement/download/...</td>\n",
       "      <td>OCS-GE_2-0__SHP_LAMB93_D015_2022-01-01</td>\n",
       "    </tr>\n",
       "    <tr>\n",
       "      <th>4</th>\n",
       "      <td>15</td>\n",
       "      <td>2020</td>\n",
       "      <td>https://data.geopf.fr/telechargement/download/...</td>\n",
       "      <td>OCS-GE_2-0__SHP_LAMB93_D015_2020-01-01</td>\n",
       "    </tr>\n",
       "    <tr>\n",
       "      <th>12</th>\n",
       "      <td>43</td>\n",
       "      <td>2022</td>\n",
       "      <td>https://data.geopf.fr/telechargement/download/...</td>\n",
       "      <td>OCS-GE_2-0__SHP_LAMB93_D043_2022-01-01</td>\n",
       "    </tr>\n",
       "    <tr>\n",
       "      <th>13</th>\n",
       "      <td>43</td>\n",
       "      <td>2019</td>\n",
       "      <td>https://data.geopf.fr/telechargement/download/...</td>\n",
       "      <td>OCS-GE_2-0__SHP_LAMB93_D043_2019-01-01</td>\n",
       "    </tr>\n",
       "  </tbody>\n",
       "</table>\n",
       "</div>"
      ],
      "text/plain": [
       "   codgeo  year                                               link  \\\n",
       "3      15  2022  https://data.geopf.fr/telechargement/download/...   \n",
       "4      15  2020  https://data.geopf.fr/telechargement/download/...   \n",
       "12     43  2022  https://data.geopf.fr/telechargement/download/...   \n",
       "13     43  2019  https://data.geopf.fr/telechargement/download/...   \n",
       "\n",
       "                                      name  \n",
       "3   OCS-GE_2-0__SHP_LAMB93_D015_2022-01-01  \n",
       "4   OCS-GE_2-0__SHP_LAMB93_D015_2020-01-01  \n",
       "12  OCS-GE_2-0__SHP_LAMB93_D043_2022-01-01  \n",
       "13  OCS-GE_2-0__SHP_LAMB93_D043_2019-01-01  "
      ]
     },
     "execution_count": 58,
     "metadata": {},
     "output_type": "execute_result"
    }
   ],
   "source": [
    "liste_ocsge_dep"
   ]
  },
  {
   "cell_type": "markdown",
   "metadata": {},
   "source": [
    "Téléchargement"
   ]
  },
  {
   "cell_type": "code",
   "execution_count": 59,
   "metadata": {
    "id": "jf02e6oaqBCX"
   },
   "outputs": [],
   "source": [
    "for url in liste_ocsge_dep.link:\n",
    "  with requests.get(url, stream=True, proxies=proxies) as response:\n",
    "    if response.status_code == 200:\n",
    "        with open(url.rsplit('/', 1)[1], 'wb') as file:\n",
    "            for chunk in response.iter_content(chunk_size=8192):\n",
    "                file.write(chunk)\n",
    "\n",
    "  search_string = \"OCCUPATION_SOL\"\n",
    "  with py7zr.SevenZipFile(url.rsplit('/', 1)[1], mode='r') as archive:\n",
    "        # Get the list of files in the archive\n",
    "        all_files = archive.getnames()\n",
    "\n",
    "        # Filter files that contain the search string\n",
    "        filtered_files = [f for f in all_files if search_string in f]\n",
    "\n",
    "        # Extract only the filtered files\n",
    "        if filtered_files:\n",
    "          archive.extract(targets=filtered_files, path='ocsge_temp',recursive=False)\n",
    "\n",
    "        for file in filtered_files:\n",
    "                source_file = os.path.join('ocsge_temp', file)\n",
    "                destination_file = os.path.join('ocsge', os.path.basename(file))\n",
    "                os.makedirs(os.path.dirname(destination_file), exist_ok=True)\n",
    "                if os.path.exists(source_file):  # Only move if the file was extracted\n",
    "                    os.rename(source_file, destination_file)\n",
    "\n",
    "  ocsge = gpd.read_file('ocsge/OCCUPATION_SOL.shp')\n",
    "  ocsge.to_parquet('files_ocsge/' + url.rsplit('/', 1)[1].rsplit('.', 1)[0]+\".parquet\")\n",
    "\n",
    "  shutil.rmtree('ocsge_temp')\n",
    "  shutil.rmtree('ocsge')\n",
    "  os.remove(url.rsplit('/', 1)[1])"
   ]
  }
 ],
 "metadata": {
  "colab": {
   "authorship_tag": "ABX9TyOac+b/nmwhW8GBv0R2j9XK",
   "include_colab_link": true,
   "provenance": []
  },
  "kernelspec": {
   "display_name": "Python 3 (ipykernel)",
   "language": "python",
   "name": "python3"
  },
  "language_info": {
   "codemirror_mode": {
    "name": "ipython",
    "version": 3
   },
   "file_extension": ".py",
   "mimetype": "text/x-python",
   "name": "python",
   "nbconvert_exporter": "python",
   "pygments_lexer": "ipython3",
   "version": "3.12.7"
  }
 },
 "nbformat": 4,
 "nbformat_minor": 4
}
