{
 "cells": [
  {
   "cell_type": "code",
   "execution_count": 10,
   "metadata": {
    "id": "1LwU8UrfsSY9"
   },
   "outputs": [],
   "source": [
    "#!pip install py7zr \n",
    "import geopandas as gpd\n",
    "import pandas as pd\n",
    "import requests\n",
    "from bs4 import BeautifulSoup\n",
    "import zipfile\n",
    "import py7zr\n",
    "import os\n",
    "import shutil\n",
    "import getpass"
   ]
  },
  {
   "cell_type": "markdown",
   "metadata": {},
   "source": [
    "#### Gestion du proxy"
   ]
  },
  {
   "cell_type": "code",
   "execution_count": 16,
   "metadata": {},
   "outputs": [
    {
     "name": "stdin",
     "output_type": "stream",
     "text": [
      "http_proxy ········\n"
     ]
    }
   ],
   "source": [
    "http_proxy = getpass.getpass(prompt='http_proxy')"
   ]
  },
  {
   "cell_type": "code",
   "execution_count": 17,
   "metadata": {},
   "outputs": [
    {
     "name": "stdin",
     "output_type": "stream",
     "text": [
      "https_proxy ········\n"
     ]
    }
   ],
   "source": [
    "https_proxy = getpass.getpass(prompt='https_proxy')"
   ]
  },
  {
   "cell_type": "code",
   "execution_count": 18,
   "metadata": {
    "id": "LB1d45Mzsvd1"
   },
   "outputs": [],
   "source": [
    "req = \"https://geoservices.ign.fr/ocsge\""
   ]
  },
  {
   "cell_type": "code",
   "execution_count": 19,
   "metadata": {},
   "outputs": [],
   "source": [
    "proxies = { \"http\"  : http_proxy, \"https\" : https_proxy}"
   ]
  },
  {
   "cell_type": "code",
   "execution_count": 20,
   "metadata": {
    "id": "FeYsC64Us-O4"
   },
   "outputs": [],
   "source": [
    "page = requests.get(req, proxies=proxies)"
   ]
  },
  {
   "cell_type": "code",
   "execution_count": 21,
   "metadata": {
    "id": "6kYZyaULtFX0"
   },
   "outputs": [],
   "source": [
    "soup = BeautifulSoup(page.text, 'html.parser')"
   ]
  },
  {
   "cell_type": "code",
   "execution_count": 22,
   "metadata": {
    "id": "fuYh-8_-1i7O"
   },
   "outputs": [],
   "source": [
    "downloads = soup.findAll('a', href=True)"
   ]
  },
  {
   "cell_type": "markdown",
   "metadata": {
    "id": "44kJJUdcWqtf"
   },
   "source": [
    "Liste des départements disponibles"
   ]
  },
  {
   "cell_type": "code",
   "execution_count": 23,
   "metadata": {
    "id": "aLJYa_aN1xxC"
   },
   "outputs": [],
   "source": [
    "liste_ocsge = [download for download in downloads if \"OCS-GE_2-0\" in download['href']]\n",
    "liste_ocsge = pd.DataFrame({ 'name' : [item.find('strong').text if item.find('strong') else None for item in liste_ocsge],\n",
    "               'link' : [item['href'] for item in liste_ocsge] })\n",
    "\n",
    "\n",
    "liste_ocsge['codgeo'] = liste_ocsge.name.str.split(\" - \",expand=True)[0].str.slice(12,).str.strip()\n",
    "liste_ocsge['year'] = liste_ocsge.name.str.extract(r'(\\b\\d{4}\\b)')\n",
    "temp = liste_ocsge.name.str.extract(r'(\\b\\d{4}-\\d{4}\\b)')\n",
    "liste_ocsge.loc[~temp.isna().any(axis=1),'year'] = temp[~temp.isna().any(axis=1)][0]\n",
    "liste_ocsge = liste_ocsge[['codgeo', 'year', 'link', 'name']]\n"
   ]
  },
  {
   "cell_type": "code",
   "execution_count": 24,
   "metadata": {
    "colab": {
     "base_uri": "https://localhost:8080/",
     "height": 293
    },
    "id": "2EaG2TkNuyfU",
    "outputId": "66527c4e-eff2-4f0a-acf9-e4a4d1964a19"
   },
   "outputs": [
    {
     "data": {
      "text/html": [
       "<div>\n",
       "<style scoped>\n",
       "    .dataframe tbody tr th:only-of-type {\n",
       "        vertical-align: middle;\n",
       "    }\n",
       "\n",
       "    .dataframe tbody tr th {\n",
       "        vertical-align: top;\n",
       "    }\n",
       "\n",
       "    .dataframe thead th {\n",
       "        text-align: right;\n",
       "    }\n",
       "</style>\n",
       "<table border=\"1\" class=\"dataframe\">\n",
       "  <thead>\n",
       "    <tr style=\"text-align: right;\">\n",
       "      <th></th>\n",
       "      <th>codgeo</th>\n",
       "      <th>year</th>\n",
       "      <th>link</th>\n",
       "      <th>name</th>\n",
       "    </tr>\n",
       "  </thead>\n",
       "  <tbody>\n",
       "    <tr>\n",
       "      <th>0</th>\n",
       "      <td>01</td>\n",
       "      <td>2021</td>\n",
       "      <td>https://data.geopf.fr/telechargement/download/...</td>\n",
       "      <td>Département 01 - Ain - 2021</td>\n",
       "    </tr>\n",
       "    <tr>\n",
       "      <th>1</th>\n",
       "      <td>01</td>\n",
       "      <td>2018</td>\n",
       "      <td>https://data.geopf.fr/telechargement/download/...</td>\n",
       "      <td>Département 01 - Ain - 2018</td>\n",
       "    </tr>\n",
       "    <tr>\n",
       "      <th>2</th>\n",
       "      <td>01</td>\n",
       "      <td>2018-2021</td>\n",
       "      <td>https://data.geopf.fr/telechargement/download/...</td>\n",
       "      <td>Département 01 - Ain - différentiel - 2018-2021</td>\n",
       "    </tr>\n",
       "    <tr>\n",
       "      <th>3</th>\n",
       "      <td>38</td>\n",
       "      <td>2021</td>\n",
       "      <td>https://data.geopf.fr/telechargement/download/...</td>\n",
       "      <td>Département 38 - Isère - 2021</td>\n",
       "    </tr>\n",
       "    <tr>\n",
       "      <th>4</th>\n",
       "      <td>38</td>\n",
       "      <td>2018</td>\n",
       "      <td>https://data.geopf.fr/telechargement/download/...</td>\n",
       "      <td>Département 38 - Isère - 2018</td>\n",
       "    </tr>\n",
       "  </tbody>\n",
       "</table>\n",
       "</div>"
      ],
      "text/plain": [
       "  codgeo       year                                               link  \\\n",
       "0     01       2021  https://data.geopf.fr/telechargement/download/...   \n",
       "1     01       2018  https://data.geopf.fr/telechargement/download/...   \n",
       "2     01  2018-2021  https://data.geopf.fr/telechargement/download/...   \n",
       "3     38       2021  https://data.geopf.fr/telechargement/download/...   \n",
       "4     38       2018  https://data.geopf.fr/telechargement/download/...   \n",
       "\n",
       "                                              name  \n",
       "0                      Département 01 - Ain - 2021  \n",
       "1                      Département 01 - Ain - 2018  \n",
       "2  Département 01 - Ain - différentiel - 2018-2021  \n",
       "3                    Département 38 - Isère - 2021  \n",
       "4                    Département 38 - Isère - 2018  "
      ]
     },
     "execution_count": 24,
     "metadata": {},
     "output_type": "execute_result"
    }
   ],
   "source": [
    "liste_ocsge.head()"
   ]
  },
  {
   "cell_type": "markdown",
   "metadata": {
    "id": "pEE_QgmCbtdA"
   },
   "source": [
    "Traitement sur des départements spécifiques"
   ]
  },
  {
   "cell_type": "code",
   "execution_count": 26,
   "metadata": {
    "id": "KVtttsbEa_co"
   },
   "outputs": [],
   "source": [
    "#liste_dep = ['09', '11', '12', '30', '31', '32', '34', '46', '48', '65', '66', '81', '82']"
   ]
  },
  {
   "cell_type": "code",
   "execution_count": 30,
   "metadata": {
    "id": "5i8g-oZcbl4M"
   },
   "outputs": [],
   "source": [
    "#liste_ocsge_dep = liste_ocsge[liste_ocsge.codgeo.isin(liste_dep)].copy()\n",
    "#liste_ocsge_dep = liste_ocsge_dep[liste_ocsge_dep.year.str.len()==4]\n",
    "liste_ocsge_dep = liste_ocsge.copy()"
   ]
  },
  {
   "cell_type": "markdown",
   "metadata": {
    "id": "qfb2agILwV-3"
   },
   "source": [
    "Traitement des données annuels"
   ]
  },
  {
   "cell_type": "code",
   "execution_count": 31,
   "metadata": {
    "colab": {
     "base_uri": "https://localhost:8080/",
     "height": 1000
    },
    "id": "iMsdBnIUqYe2",
    "outputId": "cb7be90a-fe52-4574-cedf-384229a57a65"
   },
   "outputs": [
    {
     "data": {
      "text/html": [
       "<div>\n",
       "<style scoped>\n",
       "    .dataframe tbody tr th:only-of-type {\n",
       "        vertical-align: middle;\n",
       "    }\n",
       "\n",
       "    .dataframe tbody tr th {\n",
       "        vertical-align: top;\n",
       "    }\n",
       "\n",
       "    .dataframe thead th {\n",
       "        text-align: right;\n",
       "    }\n",
       "</style>\n",
       "<table border=\"1\" class=\"dataframe\">\n",
       "  <thead>\n",
       "    <tr style=\"text-align: right;\">\n",
       "      <th></th>\n",
       "      <th>codgeo</th>\n",
       "      <th>year</th>\n",
       "      <th>link</th>\n",
       "      <th>name</th>\n",
       "    </tr>\n",
       "  </thead>\n",
       "  <tbody>\n",
       "    <tr>\n",
       "      <th>0</th>\n",
       "      <td>01</td>\n",
       "      <td>2021</td>\n",
       "      <td>https://data.geopf.fr/telechargement/download/...</td>\n",
       "      <td>Département 01 - Ain - 2021</td>\n",
       "    </tr>\n",
       "    <tr>\n",
       "      <th>1</th>\n",
       "      <td>01</td>\n",
       "      <td>2018</td>\n",
       "      <td>https://data.geopf.fr/telechargement/download/...</td>\n",
       "      <td>Département 01 - Ain - 2018</td>\n",
       "    </tr>\n",
       "    <tr>\n",
       "      <th>3</th>\n",
       "      <td>38</td>\n",
       "      <td>2021</td>\n",
       "      <td>https://data.geopf.fr/telechargement/download/...</td>\n",
       "      <td>Département 38 - Isère - 2021</td>\n",
       "    </tr>\n",
       "    <tr>\n",
       "      <th>4</th>\n",
       "      <td>38</td>\n",
       "      <td>2018</td>\n",
       "      <td>https://data.geopf.fr/telechargement/download/...</td>\n",
       "      <td>Département 38 - Isère - 2018</td>\n",
       "    </tr>\n",
       "    <tr>\n",
       "      <th>6</th>\n",
       "      <td>42</td>\n",
       "      <td>2022</td>\n",
       "      <td>https://data.geopf.fr/telechargement/download/...</td>\n",
       "      <td>Département 42 - Loire - 2022</td>\n",
       "    </tr>\n",
       "  </tbody>\n",
       "</table>\n",
       "</div>"
      ],
      "text/plain": [
       "  codgeo  year                                               link  \\\n",
       "0     01  2021  https://data.geopf.fr/telechargement/download/...   \n",
       "1     01  2018  https://data.geopf.fr/telechargement/download/...   \n",
       "3     38  2021  https://data.geopf.fr/telechargement/download/...   \n",
       "4     38  2018  https://data.geopf.fr/telechargement/download/...   \n",
       "6     42  2022  https://data.geopf.fr/telechargement/download/...   \n",
       "\n",
       "                            name  \n",
       "0    Département 01 - Ain - 2021  \n",
       "1    Département 01 - Ain - 2018  \n",
       "3  Département 38 - Isère - 2021  \n",
       "4  Département 38 - Isère - 2018  \n",
       "6  Département 42 - Loire - 2022  "
      ]
     },
     "execution_count": 31,
     "metadata": {},
     "output_type": "execute_result"
    }
   ],
   "source": [
    "liste_ocsge_dep = liste_ocsge_dep[liste_ocsge_dep.year.str.len()==4]\n",
    "liste_ocsge_dep = liste_ocsge_dep[:20]\n",
    "liste_ocsge_dep.head()"
   ]
  },
  {
   "cell_type": "code",
   "execution_count": null,
   "metadata": {
    "id": "jf02e6oaqBCX"
   },
   "outputs": [],
   "source": [
    "for url in liste_ocsge_dep.link:\n",
    "  with requests.get(url, stream=True, proxies=proxies) as response:\n",
    "    if response.status_code == 200:\n",
    "        with open(url.rsplit('/', 1)[1], 'wb') as file:\n",
    "            for chunk in response.iter_content(chunk_size=8192):\n",
    "                file.write(chunk)\n",
    "\n",
    "  search_string = \"OCCUPATION_SOL\"\n",
    "  with py7zr.SevenZipFile(url.rsplit('/', 1)[1], mode='r') as archive:\n",
    "        # Get the list of files in the archive\n",
    "        all_files = archive.getnames()\n",
    "\n",
    "        # Filter files that contain the search string\n",
    "        filtered_files = [f for f in all_files if search_string in f]\n",
    "\n",
    "        # Extract only the filtered files\n",
    "        if filtered_files:\n",
    "          archive.extract(targets=filtered_files, path='ocsge_temp',recursive=False)\n",
    "\n",
    "        for file in filtered_files:\n",
    "                source_file = os.path.join('ocsge_temp', file)\n",
    "                destination_file = os.path.join('ocsge', os.path.basename(file))\n",
    "                os.makedirs(os.path.dirname(destination_file), exist_ok=True)\n",
    "                if os.path.exists(source_file):  # Only move if the file was extracted\n",
    "                    os.rename(source_file, destination_file)\n",
    "\n",
    "  ocsge = gpd.read_file('ocsge/OCCUPATION_SOL.shp')\n",
    "  ocsge.to_parquet('files_ocsge/' + url.rsplit('/', 1)[1].rsplit('.', 1)[0]+\".parquet\")\n",
    "\n",
    "  shutil.rmtree('ocsge_temp')\n",
    "  shutil.rmtree('ocsge')\n",
    "  os.remove(url.rsplit('/', 1)[1])"
   ]
  }
 ],
 "metadata": {
  "colab": {
   "authorship_tag": "ABX9TyOac+b/nmwhW8GBv0R2j9XK",
   "include_colab_link": true,
   "provenance": []
  },
  "kernelspec": {
   "display_name": "Python 3 (ipykernel)",
   "language": "python",
   "name": "python3"
  },
  "language_info": {
   "codemirror_mode": {
    "name": "ipython",
    "version": 3
   },
   "file_extension": ".py",
   "mimetype": "text/x-python",
   "name": "python",
   "nbconvert_exporter": "python",
   "pygments_lexer": "ipython3",
   "version": "3.12.7"
  }
 },
 "nbformat": 4,
 "nbformat_minor": 4
}
