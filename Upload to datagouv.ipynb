{
 "cells": [
  {
   "cell_type": "markdown",
   "id": "f13516a5-da06-4ed2-b69f-d154cacd7384",
   "metadata": {},
   "source": [
    "# Upload to data.gouv\n",
    "\n",
    "Dans cette partie, on envoie les données sur le site data.gouv.fr"
   ]
  },
  {
   "cell_type": "code",
   "execution_count": 107,
   "id": "4adf3c5f-2cc4-41e2-8f05-eafea1b358ef",
   "metadata": {},
   "outputs": [],
   "source": [
    "import geopandas as gpd\n",
    "import pandas as pd\n",
    "import requests\n",
    "from bs4 import BeautifulSoup\n",
    "import zipfile\n",
    "import py7zr\n",
    "import os\n",
    "import shutil\n",
    "import getpass\n",
    "import glob\n",
    "import json"
   ]
  },
  {
   "cell_type": "code",
   "execution_count": 2,
   "id": "70fe7189-309c-4f36-b6ae-cefb4fdb868d",
   "metadata": {},
   "outputs": [
    {
     "name": "stdin",
     "output_type": "stream",
     "text": [
      "http_proxy ········\n",
      "http_proxy ········\n"
     ]
    }
   ],
   "source": [
    "http_proxy = getpass.getpass(prompt='http_proxy')\n",
    "https_proxy = getpass.getpass(prompt='http_proxy')\n",
    "proxies = { \"http\"  : http_proxy, \"https\" : https_proxy}"
   ]
  },
  {
   "cell_type": "code",
   "execution_count": 84,
   "id": "b8697326-c015-4c48-b4b2-3ef819c7677f",
   "metadata": {},
   "outputs": [
    {
     "name": "stdin",
     "output_type": "stream",
     "text": [
      "API_KEY ········\n"
     ]
    }
   ],
   "source": [
    "API_KEY = getpass.getpass(prompt='API_KEY')"
   ]
  },
  {
   "cell_type": "code",
   "execution_count": 86,
   "id": "3255b648-d2cd-4655-8e3c-7e4cf4bba733",
   "metadata": {},
   "outputs": [],
   "source": [
    "API = 'https://www.data.gouv.fr/api/1'\n",
    "DATASET = '670e7c115a3cc3e558e87afa'\n",
    "HEADERS = {'X-API-KEY': API_KEY}"
   ]
  },
  {
   "cell_type": "code",
   "execution_count": 7,
   "id": "e70cc163-7f5a-4057-bd44-1f13c7f43bbc",
   "metadata": {},
   "outputs": [],
   "source": [
    "liste_termine = glob.glob(\"files_ocsge/*\")"
   ]
  },
  {
   "cell_type": "code",
   "execution_count": null,
   "id": "504a42e4-fdcc-4d02-8f64-5e238d5149be",
   "metadata": {},
   "outputs": [],
   "source": [
    "for file in liste_termine[100:]:\n",
    "    print(file)\n",
    "    url = API + '/datasets/{}/upload/'.format(DATASET)\n",
    "    response = requests.post(url, files={'file': open(file, 'rb'),}, headers=HEADERS, proxies=proxies)"
   ]
  },
  {
   "cell_type": "markdown",
   "id": "8c9a45ed-d28c-425c-b3df-98588f107afa",
   "metadata": {},
   "source": [
    "Liste des fichiers dispo sur data.gouv"
   ]
  },
  {
   "cell_type": "code",
   "execution_count": 100,
   "id": "339d9e4c-3b1f-408d-bb07-49ef6aa9f600",
   "metadata": {},
   "outputs": [],
   "source": [
    "url = 'https://www.data.gouv.fr/fr/datasets/occupation-du-sol-a-grande-echelle-ign-et-cerema/'"
   ]
  },
  {
   "cell_type": "code",
   "execution_count": 125,
   "id": "f83b1517-4430-450d-a086-2676da5063f3",
   "metadata": {},
   "outputs": [],
   "source": [
    "page = requests.get(url, proxies=proxies)\n",
    "soup = BeautifulSoup(page.text, 'html.parser')\n",
    "script = soup.find('script').text\n",
    "ressources = json.loads(script)['distribution']"
   ]
  },
  {
   "cell_type": "code",
   "execution_count": 136,
   "id": "db1499a2-9bed-4624-bb98-cdff44452c91",
   "metadata": {},
   "outputs": [],
   "source": [
    "ressources_link = [{'id' : ressource['@id'], 'name' : ressource['name'], 'url' : ressource['contentUrl']} for ressource in ressources]"
   ]
  },
  {
   "cell_type": "code",
   "execution_count": 138,
   "id": "2f2ff6f4-b3ac-4af8-aa0b-69d0baff1e40",
   "metadata": {},
   "outputs": [],
   "source": [
    "ressources_link = pd.DataFrame(ressources_link)"
   ]
  },
  {
   "cell_type": "code",
   "execution_count": 150,
   "id": "14e72d96-4984-4384-9915-71e91094930d",
   "metadata": {},
   "outputs": [],
   "source": [
    "temp = (ressources_link.name.str.split('shp', expand=True)[[1]])[1].str.split('-', expand=True)"
   ]
  },
  {
   "cell_type": "code",
   "execution_count": 156,
   "id": "235d404f-6599-44fa-8715-1de9b87bbebc",
   "metadata": {},
   "outputs": [],
   "source": [
    "ressources_link['proj'] = temp[[1]]\n",
    "ressources_link['dep'] = temp[[2]]\n",
    "ressources_link['year'] = temp[[3]]"
   ]
  },
  {
   "cell_type": "code",
   "execution_count": 157,
   "id": "d3303cad-965f-437c-afd4-4fdd866ed2a1",
   "metadata": {},
   "outputs": [
    {
     "data": {
      "text/html": [
       "<div>\n",
       "<style scoped>\n",
       "    .dataframe tbody tr th:only-of-type {\n",
       "        vertical-align: middle;\n",
       "    }\n",
       "\n",
       "    .dataframe tbody tr th {\n",
       "        vertical-align: top;\n",
       "    }\n",
       "\n",
       "    .dataframe thead th {\n",
       "        text-align: right;\n",
       "    }\n",
       "</style>\n",
       "<table border=\"1\" class=\"dataframe\">\n",
       "  <thead>\n",
       "    <tr style=\"text-align: right;\">\n",
       "      <th></th>\n",
       "      <th>id</th>\n",
       "      <th>name</th>\n",
       "      <th>url</th>\n",
       "      <th>proj</th>\n",
       "      <th>dep</th>\n",
       "      <th>year</th>\n",
       "    </tr>\n",
       "  </thead>\n",
       "  <tbody>\n",
       "    <tr>\n",
       "      <th>0</th>\n",
       "      <td>ca4b0b93-0166-44ef-8ff7-eba3245db99a</td>\n",
       "      <td>ocs-ge-2-0-shp-rgaf09utm20-d972-2022-01-01.par...</td>\n",
       "      <td>https://static.data.gouv.fr/resources/occupati...</td>\n",
       "      <td>rgaf09utm20</td>\n",
       "      <td>d972</td>\n",
       "      <td>2022</td>\n",
       "    </tr>\n",
       "    <tr>\n",
       "      <th>1</th>\n",
       "      <td>42a953b5-14c0-4f69-b9f9-39e291ef4ff5</td>\n",
       "      <td>ocs-ge-2-0-shp-rgaf09utm20-d972-2017-01-01.par...</td>\n",
       "      <td>https://static.data.gouv.fr/resources/occupati...</td>\n",
       "      <td>rgaf09utm20</td>\n",
       "      <td>d972</td>\n",
       "      <td>2017</td>\n",
       "    </tr>\n",
       "    <tr>\n",
       "      <th>2</th>\n",
       "      <td>4583734b-1a2d-4630-8975-7e2c497befaa</td>\n",
       "      <td>ocs-ge-2-0-shp-lamb93-d095-2021-01-01.parquet</td>\n",
       "      <td>https://static.data.gouv.fr/resources/occupati...</td>\n",
       "      <td>lamb93</td>\n",
       "      <td>d095</td>\n",
       "      <td>2021</td>\n",
       "    </tr>\n",
       "    <tr>\n",
       "      <th>3</th>\n",
       "      <td>3cc771a8-dfa5-4fb3-9cf1-f1c6f7b0576b</td>\n",
       "      <td>ocs-ge-2-0-shp-lamb93-d095-2018-01-01.parquet</td>\n",
       "      <td>https://static.data.gouv.fr/resources/occupati...</td>\n",
       "      <td>lamb93</td>\n",
       "      <td>d095</td>\n",
       "      <td>2018</td>\n",
       "    </tr>\n",
       "    <tr>\n",
       "      <th>4</th>\n",
       "      <td>d79d16d0-bd15-4a04-8e25-6abcac552da2</td>\n",
       "      <td>ocs-ge-2-0-shp-lamb93-d094-2021-01-01.parquet</td>\n",
       "      <td>https://static.data.gouv.fr/resources/occupati...</td>\n",
       "      <td>lamb93</td>\n",
       "      <td>d094</td>\n",
       "      <td>2021</td>\n",
       "    </tr>\n",
       "  </tbody>\n",
       "</table>\n",
       "</div>"
      ],
      "text/plain": [
       "                                     id  \\\n",
       "0  ca4b0b93-0166-44ef-8ff7-eba3245db99a   \n",
       "1  42a953b5-14c0-4f69-b9f9-39e291ef4ff5   \n",
       "2  4583734b-1a2d-4630-8975-7e2c497befaa   \n",
       "3  3cc771a8-dfa5-4fb3-9cf1-f1c6f7b0576b   \n",
       "4  d79d16d0-bd15-4a04-8e25-6abcac552da2   \n",
       "\n",
       "                                                name  \\\n",
       "0  ocs-ge-2-0-shp-rgaf09utm20-d972-2022-01-01.par...   \n",
       "1  ocs-ge-2-0-shp-rgaf09utm20-d972-2017-01-01.par...   \n",
       "2      ocs-ge-2-0-shp-lamb93-d095-2021-01-01.parquet   \n",
       "3      ocs-ge-2-0-shp-lamb93-d095-2018-01-01.parquet   \n",
       "4      ocs-ge-2-0-shp-lamb93-d094-2021-01-01.parquet   \n",
       "\n",
       "                                                 url         proj   dep  year  \n",
       "0  https://static.data.gouv.fr/resources/occupati...  rgaf09utm20  d972  2022  \n",
       "1  https://static.data.gouv.fr/resources/occupati...  rgaf09utm20  d972  2017  \n",
       "2  https://static.data.gouv.fr/resources/occupati...       lamb93  d095  2021  \n",
       "3  https://static.data.gouv.fr/resources/occupati...       lamb93  d095  2018  \n",
       "4  https://static.data.gouv.fr/resources/occupati...       lamb93  d094  2021  "
      ]
     },
     "execution_count": 157,
     "metadata": {},
     "output_type": "execute_result"
    }
   ],
   "source": [
    "ressources_link.head()"
   ]
  },
  {
   "cell_type": "code",
   "execution_count": 174,
   "id": "775b0206-823b-4d40-8a7e-98d541cf7e04",
   "metadata": {},
   "outputs": [],
   "source": [
    "ressources_link.to_json('ressources_link.json', orient='records')"
   ]
  },
  {
   "cell_type": "code",
   "execution_count": 170,
   "id": "af4e7be7-a368-4446-9315-183f729ec08f",
   "metadata": {},
   "outputs": [
    {
     "name": "stdout",
     "output_type": "stream",
     "text": [
      "| id                                   | name                                               | url                                                                                                                                                       | proj        | dep   |   year |\n",
      "|:-------------------------------------|:---------------------------------------------------|:----------------------------------------------------------------------------------------------------------------------------------------------------------|:------------|:------|-------:|\n",
      "| ca4b0b93-0166-44ef-8ff7-eba3245db99a | ocs-ge-2-0-shp-rgaf09utm20-d972-2022-01-01.parquet | https://static.data.gouv.fr/resources/occupation-du-sol-a-grande-echelle-ign-et-cerema/20250121-171436/ocs-ge-2-0-shp-rgaf09utm20-d972-2022-01-01.parquet | rgaf09utm20 | d972  |   2022 |\n",
      "| 42a953b5-14c0-4f69-b9f9-39e291ef4ff5 | ocs-ge-2-0-shp-rgaf09utm20-d972-2017-01-01.parquet | https://static.data.gouv.fr/resources/occupation-du-sol-a-grande-echelle-ign-et-cerema/20250121-171422/ocs-ge-2-0-shp-rgaf09utm20-d972-2017-01-01.parquet | rgaf09utm20 | d972  |   2017 |\n",
      "| 4583734b-1a2d-4630-8975-7e2c497befaa | ocs-ge-2-0-shp-lamb93-d095-2021-01-01.parquet      | https://static.data.gouv.fr/resources/occupation-du-sol-a-grande-echelle-ign-et-cerema/20250121-171410/ocs-ge-2-0-shp-lamb93-d095-2021-01-01.parquet      | lamb93      | d095  |   2021 |\n",
      "| 3cc771a8-dfa5-4fb3-9cf1-f1c6f7b0576b | ocs-ge-2-0-shp-lamb93-d095-2018-01-01.parquet      | https://static.data.gouv.fr/resources/occupation-du-sol-a-grande-echelle-ign-et-cerema/20250121-171358/ocs-ge-2-0-shp-lamb93-d095-2018-01-01.parquet      | lamb93      | d095  |   2018 |\n",
      "| d79d16d0-bd15-4a04-8e25-6abcac552da2 | ocs-ge-2-0-shp-lamb93-d094-2021-01-01.parquet      | https://static.data.gouv.fr/resources/occupation-du-sol-a-grande-echelle-ign-et-cerema/20250121-171349/ocs-ge-2-0-shp-lamb93-d094-2021-01-01.parquet      | lamb93      | d094  |   2021 |\n",
      "| 3a9b6089-b4c7-4697-b942-ad38152b2601 | ocs-ge-2-0-shp-lamb93-d094-2018-01-01.parquet      | https://static.data.gouv.fr/resources/occupation-du-sol-a-grande-echelle-ign-et-cerema/20250121-171344/ocs-ge-2-0-shp-lamb93-d094-2018-01-01.parquet      | lamb93      | d094  |   2018 |\n",
      "| a674e8db-9cb8-4d33-9e4e-552b7def1c21 | ocs-ge-2-0-shp-lamb93-d093-2021-01-01.parquet      | https://static.data.gouv.fr/resources/occupation-du-sol-a-grande-echelle-ign-et-cerema/20250121-171340/ocs-ge-2-0-shp-lamb93-d093-2021-01-01.parquet      | lamb93      | d093  |   2021 |\n",
      "| 07af5179-b607-40a4-8bab-dcd27a0eab38 | ocs-ge-2-0-shp-lamb93-d093-2018-01-01.parquet      | https://static.data.gouv.fr/resources/occupation-du-sol-a-grande-echelle-ign-et-cerema/20250121-171335/ocs-ge-2-0-shp-lamb93-d093-2018-01-01.parquet      | lamb93      | d093  |   2018 |\n",
      "| ea38e65c-02a4-43dd-8fe4-4f3c89f7a221 | ocs-ge-2-0-shp-lamb93-d092-2021-01-01.parquet      | https://static.data.gouv.fr/resources/occupation-du-sol-a-grande-echelle-ign-et-cerema/20250121-171330/ocs-ge-2-0-shp-lamb93-d092-2021-01-01.parquet      | lamb93      | d092  |   2021 |\n",
      "| 6ef91a4f-5fef-4841-87e7-f93f2af47692 | ocs-ge-2-0-shp-lamb93-d092-2018-01-01.parquet      | https://static.data.gouv.fr/resources/occupation-du-sol-a-grande-echelle-ign-et-cerema/20250121-171326/ocs-ge-2-0-shp-lamb93-d092-2018-01-01.parquet      | lamb93      | d092  |   2018 |\n",
      "| 47877895-914d-4871-996a-f2bbf9bb9767 | ocs-ge-2-0-shp-lamb93-d091-2021-01-01.parquet      | https://static.data.gouv.fr/resources/occupation-du-sol-a-grande-echelle-ign-et-cerema/20250121-171317/ocs-ge-2-0-shp-lamb93-d091-2021-01-01.parquet      | lamb93      | d091  |   2021 |\n",
      "| 614d1470-2c12-42bd-8fdd-438959917214 | ocs-ge-2-0-shp-lamb93-d091-2018-01-01.parquet      | https://static.data.gouv.fr/resources/occupation-du-sol-a-grande-echelle-ign-et-cerema/20250121-171302/ocs-ge-2-0-shp-lamb93-d091-2018-01-01.parquet      | lamb93      | d091  |   2018 |\n",
      "| 5d077530-dd06-47c6-bebf-5439d02e66c8 | ocs-ge-2-0-shp-lamb93-d085-2022-01-01.parquet      | https://static.data.gouv.fr/resources/occupation-du-sol-a-grande-echelle-ign-et-cerema/20250121-171235/ocs-ge-2-0-shp-lamb93-d085-2022-01-01.parquet      | lamb93      | d085  |   2022 |\n",
      "| 3f4cfc44-b553-40ea-8c27-184ad981a615 | ocs-ge-2-0-shp-lamb93-d085-2019-01-01.parquet      | https://static.data.gouv.fr/resources/occupation-du-sol-a-grande-echelle-ign-et-cerema/20250121-171153/ocs-ge-2-0-shp-lamb93-d085-2019-01-01.parquet      | lamb93      | d085  |   2019 |\n",
      "| 26a95765-c2d4-4c5d-b8b6-3e4dbe33c193 | ocs-ge-2-0-shp-lamb93-d084-2021-01-01.parquet      | https://static.data.gouv.fr/resources/occupation-du-sol-a-grande-echelle-ign-et-cerema/20250121-171113/ocs-ge-2-0-shp-lamb93-d084-2021-01-01.parquet      | lamb93      | d084  |   2021 |\n",
      "| a096a7c7-bc32-430b-b263-ea723bb1639b | ocs-ge-2-0-shp-lamb93-d084-2018-01-01.parquet      | https://static.data.gouv.fr/resources/occupation-du-sol-a-grande-echelle-ign-et-cerema/20250121-171035/ocs-ge-2-0-shp-lamb93-d084-2018-01-01.parquet      | lamb93      | d084  |   2018 |\n",
      "| 15417e4a-4a4c-4506-a578-985b20d0a654 | ocs-ge-2-0-shp-lamb93-d083-2020-01-01.parquet      | https://static.data.gouv.fr/resources/occupation-du-sol-a-grande-echelle-ign-et-cerema/20250121-170948/ocs-ge-2-0-shp-lamb93-d083-2020-01-01.parquet      | lamb93      | d083  |   2020 |\n",
      "| 8d5c2dab-fe7c-40a3-adff-bc114f480c0e | ocs-ge-2-0-shp-lamb93-d083-2017-01-01.parquet      | https://static.data.gouv.fr/resources/occupation-du-sol-a-grande-echelle-ign-et-cerema/20250121-170846/ocs-ge-2-0-shp-lamb93-d083-2017-01-01.parquet      | lamb93      | d083  |   2017 |\n",
      "| cb8646f0-22c2-44b9-8265-6e6e3692bf69 | ocs-ge-2-0-shp-lamb93-d082-2022-01-01.parquet      | https://static.data.gouv.fr/resources/occupation-du-sol-a-grande-echelle-ign-et-cerema/20250121-170800/ocs-ge-2-0-shp-lamb93-d082-2022-01-01.parquet      | lamb93      | d082  |   2022 |\n",
      "| fc27f386-25ab-4b8e-a003-91e6b81d28fb | ocs-ge-2-0-shp-lamb93-d082-2019-01-01.parquet      | https://static.data.gouv.fr/resources/occupation-du-sol-a-grande-echelle-ign-et-cerema/20250121-170734/ocs-ge-2-0-shp-lamb93-d082-2019-01-01.parquet      | lamb93      | d082  |   2019 |\n",
      "| e230e443-d97b-416c-89f7-477a97ee8237 | ocs-ge-2-0-shp-lamb93-d080-2021-01-01.parquet      | https://static.data.gouv.fr/resources/occupation-du-sol-a-grande-echelle-ign-et-cerema/20250121-170704/ocs-ge-2-0-shp-lamb93-d080-2021-01-01.parquet      | lamb93      | d080  |   2021 |\n",
      "| 79102e04-e3e4-4b55-9c92-1f675c310d4f | ocs-ge-2-0-shp-lamb93-d080-2017-01-01.parquet      | https://static.data.gouv.fr/resources/occupation-du-sol-a-grande-echelle-ign-et-cerema/20250121-170639/ocs-ge-2-0-shp-lamb93-d080-2017-01-01.parquet      | lamb93      | d080  |   2017 |\n",
      "| 9b773dca-5f90-4dfe-b283-1587979d1da8 | ocs-ge-2-0-shp-lamb93-d078-2021-01-01.parquet      | https://static.data.gouv.fr/resources/occupation-du-sol-a-grande-echelle-ign-et-cerema/20250121-170617/ocs-ge-2-0-shp-lamb93-d078-2021-01-01.parquet      | lamb93      | d078  |   2021 |\n",
      "| 6d1355d4-8b5b-4cfe-a9cc-b66673aa83c0 | ocs-ge-2-0-shp-lamb93-d078-2018-01-01.parquet      | https://static.data.gouv.fr/resources/occupation-du-sol-a-grande-echelle-ign-et-cerema/20250121-170559/ocs-ge-2-0-shp-lamb93-d078-2018-01-01.parquet      | lamb93      | d078  |   2018 |\n",
      "| 77728fdb-6693-4b99-9a4d-526619ba95b0 | ocs-ge-2-0-shp-lamb93-d077-2021-01-01.parquet      | https://static.data.gouv.fr/resources/occupation-du-sol-a-grande-echelle-ign-et-cerema/20250121-170536/ocs-ge-2-0-shp-lamb93-d077-2021-01-01.parquet      | lamb93      | d077  |   2021 |\n",
      "| bdf2f49d-4111-49fd-a97c-61050fbad14e | ocs-ge-2-0-shp-lamb93-d077-2017-01-01.parquet      | https://static.data.gouv.fr/resources/occupation-du-sol-a-grande-echelle-ign-et-cerema/20250121-170506/ocs-ge-2-0-shp-lamb93-d077-2017-01-01.parquet      | lamb93      | d077  |   2017 |\n",
      "| 08d8ee5f-d4f8-4552-b0e7-9af6d1ab9e09 | ocs-ge-2-0-shp-lamb93-d075-2021-01-01.parquet      | https://static.data.gouv.fr/resources/occupation-du-sol-a-grande-echelle-ign-et-cerema/20250121-170445/ocs-ge-2-0-shp-lamb93-d075-2021-01-01.parquet      | lamb93      | d075  |   2021 |\n",
      "| 18a7117b-6da0-48f9-b2bd-c0eef7cc521f | ocs-ge-2-0-shp-lamb93-d075-2018-01-01.parquet      | https://static.data.gouv.fr/resources/occupation-du-sol-a-grande-echelle-ign-et-cerema/20250121-170442/ocs-ge-2-0-shp-lamb93-d075-2018-01-01.parquet      | lamb93      | d075  |   2018 |\n",
      "| 23145a8c-6003-48df-9a65-a46b0ffdc0ae | ocs-ge-2-0-shp-lamb93-d073-2022-01-01.parquet      | https://static.data.gouv.fr/resources/occupation-du-sol-a-grande-echelle-ign-et-cerema/20250121-170225/ocs-ge-2-0-shp-lamb93-d073-2022-01-01.parquet      | lamb93      | d073  |   2022 |\n",
      "| 6ff7ad10-496d-4f23-a445-1e61deccd975 | ocs-ge-2-0-shp-lamb93-d073-2019-01-01.parquet      | https://static.data.gouv.fr/resources/occupation-du-sol-a-grande-echelle-ign-et-cerema/20250121-170127/ocs-ge-2-0-shp-lamb93-d073-2019-01-01.parquet      | lamb93      | d073  |   2019 |\n",
      "| 3565adf6-3864-40d6-ae6b-453acce271d2 | ocs-ge-2-0-shp-lamb93-d072-2022-01-01.parquet      | https://static.data.gouv.fr/resources/occupation-du-sol-a-grande-echelle-ign-et-cerema/20250121-170041/ocs-ge-2-0-shp-lamb93-d072-2022-01-01.parquet      | lamb93      | d072  |   2022 |\n",
      "| d9a2771b-6247-43cb-a3de-21a64541dd39 | ocs-ge-2-0-shp-lamb93-d072-2019-01-01.parquet      | https://static.data.gouv.fr/resources/occupation-du-sol-a-grande-echelle-ign-et-cerema/20250121-170006/ocs-ge-2-0-shp-lamb93-d072-2019-01-01.parquet      | lamb93      | d072  |   2019 |\n",
      "| e21f9932-2bff-4929-ba22-c31637513fef | ocs-ge-2-0-shp-lamb93-d069-2020-01-01.parquet      | https://static.data.gouv.fr/resources/occupation-du-sol-a-grande-echelle-ign-et-cerema/20250121-165933/ocs-ge-2-0-shp-lamb93-d069-2020-01-01.parquet      | lamb93      | d069  |   2020 |\n",
      "| 134f18d8-84a5-4cec-abb1-eb44e37ed687 | ocs-ge-2-0-shp-lamb93-d069-2017-01-01.parquet      | https://static.data.gouv.fr/resources/occupation-du-sol-a-grande-echelle-ign-et-cerema/20250121-165900/ocs-ge-2-0-shp-lamb93-d069-2017-01-01.parquet      | lamb93      | d069  |   2017 |\n",
      "| feaf76db-a6bb-4f49-8c56-7f620c917368 | ocs-ge-2-0-shp-lamb93-d068-2021-01-01.parquet      | https://static.data.gouv.fr/resources/occupation-du-sol-a-grande-echelle-ign-et-cerema/20250121-165833/ocs-ge-2-0-shp-lamb93-d068-2021-01-01.parquet      | lamb93      | d068  |   2021 |\n",
      "| 20df5622-58cd-4eba-be22-4e629d3f0b4a | ocs-ge-2-0-shp-lamb93-d068-2018-01-01.parquet      | https://static.data.gouv.fr/resources/occupation-du-sol-a-grande-echelle-ign-et-cerema/20250121-165813/ocs-ge-2-0-shp-lamb93-d068-2018-01-01.parquet      | lamb93      | d068  |   2018 |\n",
      "| 50bc8843-7c8f-4518-8e27-5a4c0cfc469a | ocs-ge-2-0-shp-lamb93-d067-2021-01-01.parquet      | https://static.data.gouv.fr/resources/occupation-du-sol-a-grande-echelle-ign-et-cerema/20250121-165749/ocs-ge-2-0-shp-lamb93-d067-2021-01-01.parquet      | lamb93      | d067  |   2021 |\n",
      "| f3a94ae5-568b-42cc-89f4-bc892981d7be | ocs-ge-2-0-shp-lamb93-d067-2018-01-01.parquet      | https://static.data.gouv.fr/resources/occupation-du-sol-a-grande-echelle-ign-et-cerema/20250121-165719/ocs-ge-2-0-shp-lamb93-d067-2018-01-01.parquet      | lamb93      | d067  |   2018 |\n",
      "| 08c66fd3-24bb-4c76-95c4-82d028a277d5 | ocs-ge-2-0-shp-lamb93-d066-2021-01-01.parquet      | https://static.data.gouv.fr/resources/occupation-du-sol-a-grande-echelle-ign-et-cerema/20250121-165649/ocs-ge-2-0-shp-lamb93-d066-2021-01-01.parquet      | lamb93      | d066  |   2021 |\n",
      "| 2a378e3e-4c6f-4e6c-8cae-440e2237afd0 | ocs-ge-2-0-shp-lamb93-d066-2018-01-01.parquet      | https://static.data.gouv.fr/resources/occupation-du-sol-a-grande-echelle-ign-et-cerema/20250121-165620/ocs-ge-2-0-shp-lamb93-d066-2018-01-01.parquet      | lamb93      | d066  |   2018 |\n",
      "| fd8f4b39-84a2-4b43-bdc9-7cebf6efa81e | ocs-ge-2-0-shp-lamb93-d065-2022-01-01.parquet      | https://static.data.gouv.fr/resources/occupation-du-sol-a-grande-echelle-ign-et-cerema/20250121-165549/ocs-ge-2-0-shp-lamb93-d065-2022-01-01.parquet      | lamb93      | d065  |   2022 |\n",
      "| 67737342-b526-4de1-a3b1-24855b1585a4 | ocs-ge-2-0-shp-lamb93-d065-2019-01-01.parquet      | https://static.data.gouv.fr/resources/occupation-du-sol-a-grande-echelle-ign-et-cerema/20250121-165517/ocs-ge-2-0-shp-lamb93-d065-2019-01-01.parquet      | lamb93      | d065  |   2019 |\n",
      "| 454674a2-54fd-4607-aa91-68cf5a581747 | ocs-ge-2-0-shp-lamb93-d064-2021-01-01.parquet      | https://static.data.gouv.fr/resources/occupation-du-sol-a-grande-echelle-ign-et-cerema/20250121-165437/ocs-ge-2-0-shp-lamb93-d064-2021-01-01.parquet      | lamb93      | d064  |   2021 |\n",
      "| 72a60c15-0191-41c0-b0c4-221dc889875a | ocs-ge-2-0-shp-lamb93-d064-2018-01-01.parquet      | https://static.data.gouv.fr/resources/occupation-du-sol-a-grande-echelle-ign-et-cerema/20250121-165344/ocs-ge-2-0-shp-lamb93-d064-2018-01-01.parquet      | lamb93      | d064  |   2018 |\n",
      "| d96611f3-d878-4f4a-abff-82bf490d472a | ocs-ge-2-0-shp-lamb93-d063-2022-01-01.parquet      | https://static.data.gouv.fr/resources/occupation-du-sol-a-grande-echelle-ign-et-cerema/20250121-165253/ocs-ge-2-0-shp-lamb93-d063-2022-01-01.parquet      | lamb93      | d063  |   2022 |\n",
      "| 6e816d8f-f84e-4767-b0c1-74fb4cd9891e | ocs-ge-2-0-shp-lamb93-d063-2019-01-01.parquet      | https://static.data.gouv.fr/resources/occupation-du-sol-a-grande-echelle-ign-et-cerema/20250121-165201/ocs-ge-2-0-shp-lamb93-d063-2019-01-01.parquet      | lamb93      | d063  |   2019 |\n",
      "| f4f8a274-e337-41b2-a640-15529449416a | ocs-ge-2-0-shp-lamb93-d062-2021-01-01.parquet      | https://static.data.gouv.fr/resources/occupation-du-sol-a-grande-echelle-ign-et-cerema/20250121-165115/ocs-ge-2-0-shp-lamb93-d062-2021-01-01.parquet      | lamb93      | d062  |   2021 |\n",
      "| 10e51066-a23b-4dad-bf62-f74dca172c90 | ocs-ge-2-0-shp-lamb93-d062-2018-01-01.parquet      | https://static.data.gouv.fr/resources/occupation-du-sol-a-grande-echelle-ign-et-cerema/20250121-165038/ocs-ge-2-0-shp-lamb93-d062-2018-01-01.parquet      | lamb93      | d062  |   2018 |\n",
      "| 39d821d3-0b1f-4b1a-822b-60a951ec4636 | ocs-ge-2-0-shp-lamb93-d060-2021-01-01.parquet      | https://static.data.gouv.fr/resources/occupation-du-sol-a-grande-echelle-ign-et-cerema/20250121-165006/ocs-ge-2-0-shp-lamb93-d060-2021-01-01.parquet      | lamb93      | d060  |   2021 |\n",
      "| 51480475-f5ef-4faf-889f-ce0497d2ed3a | ocs-ge-2-0-shp-lamb93-d060-2018-01-01.parquet      | https://static.data.gouv.fr/resources/occupation-du-sol-a-grande-echelle-ign-et-cerema/20250121-164943/ocs-ge-2-0-shp-lamb93-d060-2018-01-01.parquet      | lamb93      | d060  |   2018 |\n",
      "| 737e1267-09f9-4569-adaf-e6d0884f65f4 | ocs-ge-2-0-shp-lamb93-d059-2021-01-01.parquet      | https://static.data.gouv.fr/resources/occupation-du-sol-a-grande-echelle-ign-et-cerema/20250121-164909/ocs-ge-2-0-shp-lamb93-d059-2021-01-01.parquet      | lamb93      | d059  |   2021 |\n",
      "| 25dd1f22-7e9c-4b87-afb7-7d14c33ab1c3 | ocs-ge-2-0-shp-lamb93-d059-2018-01-01.parquet      | https://static.data.gouv.fr/resources/occupation-du-sol-a-grande-echelle-ign-et-cerema/20250121-164833/ocs-ge-2-0-shp-lamb93-d059-2018-01-01.parquet      | lamb93      | d059  |   2018 |\n",
      "| eeaf847c-55b2-4750-a286-b23706b32b40 | ocs-ge-2-0-shp-lamb93-d057-2022-01-01.parquet      | https://static.data.gouv.fr/resources/occupation-du-sol-a-grande-echelle-ign-et-cerema/20250121-164757/ocs-ge-2-0-shp-lamb93-d057-2022-01-01.parquet      | lamb93      | d057  |   2022 |\n",
      "| 2aa86610-9ae4-4ee3-86d4-3e44e4fa301f | ocs-ge-2-0-shp-lamb93-d057-2018-01-01.parquet      | https://static.data.gouv.fr/resources/occupation-du-sol-a-grande-echelle-ign-et-cerema/20250121-164725/ocs-ge-2-0-shp-lamb93-d057-2018-01-01.parquet      | lamb93      | d057  |   2018 |\n",
      "| 44bc945b-6135-40f7-b093-30ac4e218ca1 | ocs-ge-2-0-shp-lamb93-d055-2022-01-01.parquet      | https://static.data.gouv.fr/resources/occupation-du-sol-a-grande-echelle-ign-et-cerema/20250121-164658/ocs-ge-2-0-shp-lamb93-d055-2022-01-01.parquet      | lamb93      | d055  |   2022 |\n",
      "| 0626024e-0cbf-41ef-945d-df4cc81217ae | ocs-ge-2-0-shp-lamb93-d055-2018-01-01.parquet      | https://static.data.gouv.fr/resources/occupation-du-sol-a-grande-echelle-ign-et-cerema/20250121-164642/ocs-ge-2-0-shp-lamb93-d055-2018-01-01.parquet      | lamb93      | d055  |   2018 |\n",
      "| 369f7a17-fc9c-4f79-8b6f-1a375fe7fa6c | ocs-ge-2-0-shp-lamb93-d054-2022-01-01.parquet      | https://static.data.gouv.fr/resources/occupation-du-sol-a-grande-echelle-ign-et-cerema/20250121-164622/ocs-ge-2-0-shp-lamb93-d054-2022-01-01.parquet      | lamb93      | d054  |   2022 |\n",
      "| de307efc-adcf-45ea-baa7-c739dba80e03 | ocs-ge-2-0-shp-lamb93-d054-2018-01-01.parquet      | https://static.data.gouv.fr/resources/occupation-du-sol-a-grande-echelle-ign-et-cerema/20250121-164600/ocs-ge-2-0-shp-lamb93-d054-2018-01-01.parquet      | lamb93      | d054  |   2018 |\n",
      "| 98da5648-b90b-4bee-89c9-94f10e8f25be | ocs-ge-2-0-shp-lamb93-d053-2022-01-01.parquet      | https://static.data.gouv.fr/resources/occupation-du-sol-a-grande-echelle-ign-et-cerema/20250121-164537/ocs-ge-2-0-shp-lamb93-d053-2022-01-01.parquet      | lamb93      | d053  |   2022 |\n",
      "| 738da37b-337a-4904-a527-a4fe19bff0fc | ocs-ge-2-0-shp-lamb93-d053-2019-01-01.parquet      | https://static.data.gouv.fr/resources/occupation-du-sol-a-grande-echelle-ign-et-cerema/20250121-164511/ocs-ge-2-0-shp-lamb93-d053-2019-01-01.parquet      | lamb93      | d053  |   2019 |\n",
      "| 38fa0572-db3f-44bb-9162-5fcc9ff0473b | ocs-ge-2-0-shp-lamb93-d052-2022-01-01.parquet      | https://static.data.gouv.fr/resources/occupation-du-sol-a-grande-echelle-ign-et-cerema/20250121-164448/ocs-ge-2-0-shp-lamb93-d052-2022-01-01.parquet      | lamb93      | d052  |   2022 |\n",
      "| 3af13e86-83e7-42f9-987c-ac421bc5c4d0 | ocs-ge-2-0-shp-lamb93-d052-2019-01-01.parquet      | https://static.data.gouv.fr/resources/occupation-du-sol-a-grande-echelle-ign-et-cerema/20250121-164429/ocs-ge-2-0-shp-lamb93-d052-2019-01-01.parquet      | lamb93      | d052  |   2019 |\n",
      "| a744b989-e646-4b61-91a2-37d22f2eabf1 | ocs-ge-2-0-shp-lamb93-d051-2022-01-01.parquet      | https://static.data.gouv.fr/resources/occupation-du-sol-a-grande-echelle-ign-et-cerema/20250121-164408/ocs-ge-2-0-shp-lamb93-d051-2022-01-01.parquet      | lamb93      | d051  |   2022 |\n",
      "| 34b7e88f-b472-441a-9979-36c95863af3c | ocs-ge-2-0-shp-lamb93-d051-2019-01-01.parquet      | https://static.data.gouv.fr/resources/occupation-du-sol-a-grande-echelle-ign-et-cerema/20250121-164345/ocs-ge-2-0-shp-lamb93-d051-2019-01-01.parquet      | lamb93      | d051  |   2019 |\n",
      "| 0ac01572-e836-4bea-a94f-9fa2dabd3f45 | ocs-ge-2-0-shp-lamb93-d049-2022-01-01.parquet      | https://static.data.gouv.fr/resources/occupation-du-sol-a-grande-echelle-ign-et-cerema/20250121-164316/ocs-ge-2-0-shp-lamb93-d049-2022-01-01.parquet      | lamb93      | d049  |   2022 |\n",
      "| 87078231-8207-4a38-aa36-fa13a8276c0e | ocs-ge-2-0-shp-lamb93-d049-2020-01-01.parquet      | https://static.data.gouv.fr/resources/occupation-du-sol-a-grande-echelle-ign-et-cerema/20250121-164233/ocs-ge-2-0-shp-lamb93-d049-2020-01-01.parquet      | lamb93      | d049  |   2020 |\n",
      "| 8ec715b8-778b-46e4-9c10-5d6a7fd1669b | ocs-ge-2-0-shp-lamb93-d048-2021-01-01.parquet      | https://static.data.gouv.fr/resources/occupation-du-sol-a-grande-echelle-ign-et-cerema/20250121-164159/ocs-ge-2-0-shp-lamb93-d048-2021-01-01.parquet      | lamb93      | d048  |   2021 |\n",
      "| 6fd36cd1-5647-4d03-ab82-0108eac80b97 | ocs-ge-2-0-shp-lamb93-d048-2018-01-01.parquet      | https://static.data.gouv.fr/resources/occupation-du-sol-a-grande-echelle-ign-et-cerema/20250121-164132/ocs-ge-2-0-shp-lamb93-d048-2018-01-01.parquet      | lamb93      | d048  |   2018 |\n",
      "| a7fc70c4-58c8-4d55-8445-3a47f3ef0c99 | ocs-ge-2-0-shp-lamb93-d047-2021-01-01.parquet      | https://static.data.gouv.fr/resources/occupation-du-sol-a-grande-echelle-ign-et-cerema/20250121-163654/ocs-ge-2-0-shp-lamb93-d047-2021-01-01.parquet      | lamb93      | d047  |   2021 |\n",
      "| ba199f25-8a11-4dcd-af06-3af76ac4f9e1 | ocs-ge-2-0-shp-lamb93-d047-2017-01-01.parquet      | https://static.data.gouv.fr/resources/occupation-du-sol-a-grande-echelle-ign-et-cerema/20250121-163621/ocs-ge-2-0-shp-lamb93-d047-2017-01-01.parquet      | lamb93      | d047  |   2017 |\n",
      "| 3ecf0d28-f58d-4515-9970-0772935db312 | ocs-ge-2-0-shp-lamb93-d046-2022-01-01.parquet      | https://static.data.gouv.fr/resources/occupation-du-sol-a-grande-echelle-ign-et-cerema/20250121-163541/ocs-ge-2-0-shp-lamb93-d046-2022-01-01.parquet      | lamb93      | d046  |   2022 |\n",
      "| 4da33a4a-1154-4ed5-9c22-3b4880a57543 | ocs-ge-2-0-shp-lamb93-d046-2019-01-01.parquet      | https://static.data.gouv.fr/resources/occupation-du-sol-a-grande-echelle-ign-et-cerema/20250121-163453/ocs-ge-2-0-shp-lamb93-d046-2019-01-01.parquet      | lamb93      | d046  |   2019 |\n",
      "| ddf378b3-4cee-40ab-93e6-a2c5a021b236 | ocs-ge-2-0-shp-lamb93-d044-2022-01-01.parquet      | https://static.data.gouv.fr/resources/occupation-du-sol-a-grande-echelle-ign-et-cerema/20250121-163403/ocs-ge-2-0-shp-lamb93-d044-2022-01-01.parquet      | lamb93      | d044  |   2022 |\n",
      "| 0af4ad71-2459-49c7-9c70-c3dc8d0b03e9 | ocs-ge-2-0-shp-lamb93-d044-2020-01-01.parquet      | https://static.data.gouv.fr/resources/occupation-du-sol-a-grande-echelle-ign-et-cerema/20250121-163313/ocs-ge-2-0-shp-lamb93-d044-2020-01-01.parquet      | lamb93      | d044  |   2020 |\n",
      "| 5e20bc9f-eaee-413a-9fb4-f73d30c553ea | ocs-ge-2-0-shp-lamb93-d043-2022-01-01.parquet      | https://static.data.gouv.fr/resources/occupation-du-sol-a-grande-echelle-ign-et-cerema/20250121-163229/ocs-ge-2-0-shp-lamb93-d043-2022-01-01.parquet      | lamb93      | d043  |   2022 |\n",
      "| d73f3698-4beb-47e7-8f08-7c645c54b00e | ocs-ge-2-0-shp-lamb93-d043-2019-01-01.parquet      | https://static.data.gouv.fr/resources/occupation-du-sol-a-grande-echelle-ign-et-cerema/20250121-163155/ocs-ge-2-0-shp-lamb93-d043-2019-01-01.parquet      | lamb93      | d043  |   2019 |\n",
      "| 78e0f145-2385-484e-9d16-a166cdbc1d73 | ocs-ge-2-0-shp-lamb93-d042-2022-01-01.parquet      | https://static.data.gouv.fr/resources/occupation-du-sol-a-grande-echelle-ign-et-cerema/20250121-163121/ocs-ge-2-0-shp-lamb93-d042-2022-01-01.parquet      | lamb93      | d042  |   2022 |\n",
      "| a296eabe-def7-4633-8378-4c6657ffa3dd | ocs-ge-2-0-shp-lamb93-d042-2019-01-01.parquet      | https://static.data.gouv.fr/resources/occupation-du-sol-a-grande-echelle-ign-et-cerema/20250121-163045/ocs-ge-2-0-shp-lamb93-d042-2019-01-01.parquet      | lamb93      | d042  |   2019 |\n",
      "| 6ddc04fc-6298-4502-aba0-47c9456cf419 | ocs-ge-2-0-shp-lamb93-d040-2021-01-01.parquet      | https://static.data.gouv.fr/resources/occupation-du-sol-a-grande-echelle-ign-et-cerema/20250121-163012/ocs-ge-2-0-shp-lamb93-d040-2021-01-01.parquet      | lamb93      | d040  |   2021 |\n",
      "| 1d1f3602-109f-4fa0-bcd0-1de272165e4a | ocs-ge-2-0-shp-lamb93-d040-2018-01-01.parquet      | https://static.data.gouv.fr/resources/occupation-du-sol-a-grande-echelle-ign-et-cerema/20250121-162947/ocs-ge-2-0-shp-lamb93-d040-2018-01-01.parquet      | lamb93      | d040  |   2018 |\n",
      "| dd22e363-857e-4b4c-8b7c-d950f4e8cc36 | ocs-ge-2-0-shp-lamb93-d038-2021-01-01.parquet      | https://static.data.gouv.fr/resources/occupation-du-sol-a-grande-echelle-ign-et-cerema/20250121-162917/ocs-ge-2-0-shp-lamb93-d038-2021-01-01.parquet      | lamb93      | d038  |   2021 |\n",
      "| 8093fa11-753c-4f1a-94f8-1b05146114d6 | ocs-ge-2-0-shp-lamb93-d038-2018-01-01.parquet      | https://static.data.gouv.fr/resources/occupation-du-sol-a-grande-echelle-ign-et-cerema/20250121-162836/ocs-ge-2-0-shp-lamb93-d038-2018-01-01.parquet      | lamb93      | d038  |   2018 |\n",
      "| 2375d184-bf2e-4f18-ac33-ea10ea64f1b9 | ocs-ge-2-0-shp-lamb93-d037-2021-01-01.parquet      | https://static.data.gouv.fr/resources/occupation-du-sol-a-grande-echelle-ign-et-cerema/20250121-162801/ocs-ge-2-0-shp-lamb93-d037-2021-01-01.parquet      | lamb93      | d037  |   2021 |\n",
      "| 49599d72-06cc-47bc-a8c9-7399da3a16a4 | ocs-ge-2-0-shp-lamb93-d037-2018-01-01.parquet      | https://static.data.gouv.fr/resources/occupation-du-sol-a-grande-echelle-ign-et-cerema/20250121-162731/ocs-ge-2-0-shp-lamb93-d037-2018-01-01.parquet      | lamb93      | d037  |   2018 |\n",
      "| c308d04e-ea70-4614-b9c6-55f589195454 | ocs-ge-2-0-shp-lamb93-d035-2020-01-01.parquet      | https://static.data.gouv.fr/resources/occupation-du-sol-a-grande-echelle-ign-et-cerema/20250121-162648/ocs-ge-2-0-shp-lamb93-d035-2020-01-01.parquet      | lamb93      | d035  |   2020 |\n",
      "| 5524b4e5-fdbc-436a-ab0f-23c4716f761e | ocs-ge-2-0-shp-lamb93-d035-2017-01-01.parquet      | https://static.data.gouv.fr/resources/occupation-du-sol-a-grande-echelle-ign-et-cerema/20250121-162551/ocs-ge-2-0-shp-lamb93-d035-2017-01-01.parquet      | lamb93      | d035  |   2017 |\n",
      "| 987d87fc-2be6-4f1e-af33-f796b28e793b | ocs-ge-2-0-shp-lamb93-d034-2021-01-01.parquet      | https://static.data.gouv.fr/resources/occupation-du-sol-a-grande-echelle-ign-et-cerema/20250121-162458/ocs-ge-2-0-shp-lamb93-d034-2021-01-01.parquet      | lamb93      | d034  |   2021 |\n",
      "| f946226c-e294-41ae-a787-ee7d50bfb4a4 | ocs-ge-2-0-shp-lamb93-d034-2018-01-01.parquet      | https://static.data.gouv.fr/resources/occupation-du-sol-a-grande-echelle-ign-et-cerema/20250121-162412/ocs-ge-2-0-shp-lamb93-d034-2018-01-01.parquet      | lamb93      | d034  |   2018 |\n",
      "| 2f2a0a00-6e33-48ba-9fcb-5ad66b3b1819 | ocs-ge-2-0-shp-lamb93-d033-2021-01-01.parquet      | https://static.data.gouv.fr/resources/occupation-du-sol-a-grande-echelle-ign-et-cerema/20250121-162320/ocs-ge-2-0-shp-lamb93-d033-2021-01-01.parquet      | lamb93      | d033  |   2021 |\n",
      "| 7de40ac1-823c-427e-927c-aaff05efd99f | ocs-ge-2-0-shp-lamb93-d033-2018-01-01.parquet      | https://static.data.gouv.fr/resources/occupation-du-sol-a-grande-echelle-ign-et-cerema/20250121-162222/ocs-ge-2-0-shp-lamb93-d033-2018-01-01.parquet      | lamb93      | d033  |   2018 |\n",
      "| d853f24a-8d0a-4f54-a5aa-2964bd3067e7 | ocs-ge-2-0-shp-lamb93-d032-2019-01-01.parquet      | https://static.data.gouv.fr/resources/occupation-du-sol-a-grande-echelle-ign-et-cerema/20250121-162137/ocs-ge-2-0-shp-lamb93-d032-2019-01-01.parquet      | lamb93      | d032  |   2019 |\n",
      "| 04066dbb-ceb5-4613-9f74-e7a92b46f667 | ocs-ge-2-0-shp-lamb93-d032-2016-01-01.parquet      | https://static.data.gouv.fr/resources/occupation-du-sol-a-grande-echelle-ign-et-cerema/20250121-162114/ocs-ge-2-0-shp-lamb93-d032-2016-01-01.parquet      | lamb93      | d032  |   2016 |\n",
      "| 4ed7a4fa-7284-48df-95a9-0678eb0f456a | ocs-ge-2-0-shp-lamb93-d031-2022-01-01.parquet      | https://static.data.gouv.fr/resources/occupation-du-sol-a-grande-echelle-ign-et-cerema/20250121-162042/ocs-ge-2-0-shp-lamb93-d031-2022-01-01.parquet      | lamb93      | d031  |   2022 |\n",
      "| 2fa59985-b319-4cd1-a38f-a5e5b8efe033 | ocs-ge-2-0-shp-lamb93-d031-2019-01-01.parquet      | https://static.data.gouv.fr/resources/occupation-du-sol-a-grande-echelle-ign-et-cerema/20250121-161955/ocs-ge-2-0-shp-lamb93-d031-2019-01-01.parquet      | lamb93      | d031  |   2019 |\n",
      "| 94cb1461-fccc-429f-80ab-c4e0afc94ce5 | ocs-ge-2-0-shp-lamb93-d030-2021-01-01.parquet      | https://static.data.gouv.fr/resources/occupation-du-sol-a-grande-echelle-ign-et-cerema/20250121-161910/ocs-ge-2-0-shp-lamb93-d030-2021-01-01.parquet      | lamb93      | d030  |   2021 |\n",
      "| 2ae9a0d0-cc45-47ea-acf6-98696ac71f98 | ocs-ge-2-0-shp-lamb93-d030-2018-01-01.parquet      | https://static.data.gouv.fr/resources/occupation-du-sol-a-grande-echelle-ign-et-cerema/20250121-161827/ocs-ge-2-0-shp-lamb93-d030-2018-01-01.parquet      | lamb93      | d030  |   2018 |\n",
      "| 939740d7-7ff1-44a2-9a9c-cc62a98e2a5f | ocs-ge-2-0-shp-lamb93-d02b-2021-01-01.parquet      | https://static.data.gouv.fr/resources/occupation-du-sol-a-grande-echelle-ign-et-cerema/20250121-161750/ocs-ge-2-0-shp-lamb93-d02b-2021-01-01.parquet      | lamb93      | d02b  |   2021 |\n",
      "| 36aa5ea8-84b0-4188-be7c-491b091857e3 | ocs-ge-2-0-shp-lamb93-d02b-2019-01-01.parquet      | https://static.data.gouv.fr/resources/occupation-du-sol-a-grande-echelle-ign-et-cerema/20250121-161721/ocs-ge-2-0-shp-lamb93-d02b-2019-01-01.parquet      | lamb93      | d02b  |   2019 |\n",
      "| 65231686-3b58-4f3e-88c3-6e752349de48 | ocs-ge-2-0-shp-lamb93-d02a-2021-01-01.parquet      | https://static.data.gouv.fr/resources/occupation-du-sol-a-grande-echelle-ign-et-cerema/20250121-161653/ocs-ge-2-0-shp-lamb93-d02a-2021-01-01.parquet      | lamb93      | d02a  |   2021 |\n",
      "| 8cc7d450-55de-4e2e-913b-e6aecb740aa0 | ocs-ge-2-0-shp-lamb93-d02a-2019-01-01.parquet      | https://static.data.gouv.fr/resources/occupation-du-sol-a-grande-echelle-ign-et-cerema/20250121-161624/ocs-ge-2-0-shp-lamb93-d02a-2019-01-01.parquet      | lamb93      | d02a  |   2019 |\n",
      "| 02469c40-15e7-475b-bfd6-a42b30099321 | ocs-ge-2-0-shp-lamb93-d029-2021-01-01.parquet      | https://static.data.gouv.fr/resources/occupation-du-sol-a-grande-echelle-ign-et-cerema/20250121-161541/ocs-ge-2-0-shp-lamb93-d029-2021-01-01.parquet      | lamb93      | d029  |   2021 |\n",
      "| 1e8aac11-4a04-48b5-b012-de8c6c20e3f9 | ocs-ge-2-0-shp-lamb93-d029-2018-01-01.parquet      | https://static.data.gouv.fr/resources/occupation-du-sol-a-grande-echelle-ign-et-cerema/20250121-161434/ocs-ge-2-0-shp-lamb93-d029-2018-01-01.parquet      | lamb93      | d029  |   2018 |\n",
      "| 356a67f9-6a99-4d88-9809-d7f50d156971 | ocs-ge-2-0-shp-lamb93-d024-2021-01-01.parquet      | https://static.data.gouv.fr/resources/occupation-du-sol-a-grande-echelle-ign-et-cerema/20250121-161327/ocs-ge-2-0-shp-lamb93-d024-2021-01-01.parquet      | lamb93      | d024  |   2021 |\n",
      "| 7ab4b75f-88e5-4363-a002-5d87259234d7 | ocs-ge-2-0-shp-lamb93-d024-2017-01-01.parquet      | https://static.data.gouv.fr/resources/occupation-du-sol-a-grande-echelle-ign-et-cerema/20250121-161218/ocs-ge-2-0-shp-lamb93-d024-2017-01-01.parquet      | lamb93      | d024  |   2017 |\n",
      "| d7421779-b519-49dd-9e53-d983dd10925a | ocs-ge-2-0-shp-lamb93-d022-2021-01-01.parquet      | https://static.data.gouv.fr/resources/occupation-du-sol-a-grande-echelle-ign-et-cerema/20250121-161114/ocs-ge-2-0-shp-lamb93-d022-2021-01-01.parquet      | lamb93      | d022  |   2021 |\n",
      "| 255eddec-50b4-4a3c-964a-2ffe826b63c7 | ocs-ge-2-0-shp-lamb93-d022-2018-01-01.parquet      | https://static.data.gouv.fr/resources/occupation-du-sol-a-grande-echelle-ign-et-cerema/20250121-161016/ocs-ge-2-0-shp-lamb93-d022-2018-01-01.parquet      | lamb93      | d022  |   2018 |\n",
      "| 7b0a530a-4520-42ce-a22e-be2db5aa27ff | ocs-ge-2-0-shp-lamb93-d017-2021-01-01.parquet      | https://static.data.gouv.fr/resources/occupation-du-sol-a-grande-echelle-ign-et-cerema/20250121-160927/ocs-ge-2-0-shp-lamb93-d017-2021-01-01.parquet      | lamb93      | d017  |   2021 |\n",
      "| aadfe5a2-f0e3-4d8f-9816-8a2270546783 | ocs-ge-2-0-shp-lamb93-d017-2018-01-01.parquet      | https://static.data.gouv.fr/resources/occupation-du-sol-a-grande-echelle-ign-et-cerema/20250121-160845/ocs-ge-2-0-shp-lamb93-d017-2018-01-01.parquet      | lamb93      | d017  |   2018 |\n",
      "| b14c06df-16b1-4193-afc9-4e9f4366c0df | ocs-ge-2-0-shp-lamb93-d015-2022-01-01.parquet      | https://static.data.gouv.fr/resources/occupation-du-sol-a-grande-echelle-ign-et-cerema/20250121-160754/ocs-ge-2-0-shp-lamb93-d015-2022-01-01.parquet      | lamb93      | d015  |   2022 |\n",
      "| a9b58b80-cfb3-4b27-a35b-24b874f84b2a | ocs-ge-2-0-shp-lamb93-d015-2020-01-01.parquet      | https://static.data.gouv.fr/resources/occupation-du-sol-a-grande-echelle-ign-et-cerema/20250121-160716/ocs-ge-2-0-shp-lamb93-d015-2020-01-01.parquet      | lamb93      | d015  |   2020 |\n",
      "| 45639907-e954-4361-a31a-b7f83f33aaf0 | ocs-ge-2-0-shp-lamb93-d011-2021-01-01.parquet      | https://static.data.gouv.fr/resources/occupation-du-sol-a-grande-echelle-ign-et-cerema/20250121-160636/ocs-ge-2-0-shp-lamb93-d011-2021-01-01.parquet      | lamb93      | d011  |   2021 |\n",
      "| dd85e377-7bfc-4533-b9f1-e16e02e662ba | ocs-ge-2-0-shp-lamb93-d011-2018-01-01.parquet      | https://static.data.gouv.fr/resources/occupation-du-sol-a-grande-echelle-ign-et-cerema/20250121-160547/ocs-ge-2-0-shp-lamb93-d011-2018-01-01.parquet      | lamb93      | d011  |   2018 |\n",
      "| cd1f2691-c673-43cb-bc4c-c6bce1b74e6f | ocs-ge-2-0-shp-lamb93-d010-2022-01-01.parquet      | https://static.data.gouv.fr/resources/occupation-du-sol-a-grande-echelle-ign-et-cerema/20250121-160509/ocs-ge-2-0-shp-lamb93-d010-2022-01-01.parquet      | lamb93      | d010  |   2022 |\n",
      "| cb3daa26-c66b-4694-9937-e48fcd77e589 | ocs-ge-2-0-shp-lamb93-d010-2019-01-01.parquet      | https://static.data.gouv.fr/resources/occupation-du-sol-a-grande-echelle-ign-et-cerema/20250121-160443/ocs-ge-2-0-shp-lamb93-d010-2019-01-01.parquet      | lamb93      | d010  |   2019 |\n",
      "| 73a812e2-4b5d-4662-94d5-592635b82215 | ocs-ge-2-0-shp-lamb93-d009-2022-01-01.parquet      | https://static.data.gouv.fr/resources/occupation-du-sol-a-grande-echelle-ign-et-cerema/20250121-160409/ocs-ge-2-0-shp-lamb93-d009-2022-01-01.parquet      | lamb93      | d009  |   2022 |\n",
      "| 34744cb7-1c93-45e2-bd2b-481263f16833 | ocs-ge-2-0-shp-lamb93-d009-2019-01-01.parquet      | https://static.data.gouv.fr/resources/occupation-du-sol-a-grande-echelle-ign-et-cerema/20250121-160326/ocs-ge-2-0-shp-lamb93-d009-2019-01-01.parquet      | lamb93      | d009  |   2019 |\n",
      "| 846e255f-bd27-49de-b039-a31488859da4 | ocs-ge-2-0-shp-lamb93-d008-2022-01-01.parquet      | https://static.data.gouv.fr/resources/occupation-du-sol-a-grande-echelle-ign-et-cerema/20250121-160255/ocs-ge-2-0-shp-lamb93-d008-2022-01-01.parquet      | lamb93      | d008  |   2022 |\n",
      "| bdd92592-feae-495d-9f1d-8f6c095414ef | ocs-ge-2-0-shp-lamb93-d008-2019-01-01.parquet      | https://static.data.gouv.fr/resources/occupation-du-sol-a-grande-echelle-ign-et-cerema/20250121-153943/ocs-ge-2-0-shp-lamb93-d008-2019-01-01.parquet      | lamb93      | d008  |   2019 |\n",
      "| da14c57e-f3d5-4ff7-bf8c-3358a93f1128 | ocs-ge-2-0-shp-lamb93-d006-2020-01-01.parquet      | https://static.data.gouv.fr/resources/occupation-du-sol-a-grande-echelle-ign-et-cerema/20250121-153911/ocs-ge-2-0-shp-lamb93-d006-2020-01-01.parquet      | lamb93      | d006  |   2020 |\n",
      "| 12cd229f-bb48-4263-9214-0f02aeb9b97c | ocs-ge-2-0-shp-lamb93-d006-2017-01-01.parquet      | https://static.data.gouv.fr/resources/occupation-du-sol-a-grande-echelle-ign-et-cerema/20250121-153816/ocs-ge-2-0-shp-lamb93-d006-2017-01-01.parquet      | lamb93      | d006  |   2017 |\n",
      "| c0b1d8d3-fbb2-417f-afea-818f7a4c3d6f | ocs-ge-2-0-shp-lamb93-d005-2022-01-01.parquet      | https://static.data.gouv.fr/resources/occupation-du-sol-a-grande-echelle-ign-et-cerema/20250121-153723/ocs-ge-2-0-shp-lamb93-d005-2022-01-01.parquet      | lamb93      | d005  |   2022 |\n",
      "| b4159203-5965-464a-97a5-afeab9c8377f | ocs-ge-2-0-shp-lamb93-d005-2018-01-01.parquet      | https://static.data.gouv.fr/resources/occupation-du-sol-a-grande-echelle-ign-et-cerema/20250121-153632/ocs-ge-2-0-shp-lamb93-d005-2018-01-01.parquet      | lamb93      | d005  |   2018 |\n",
      "| 332103e4-f349-438f-8642-6aa07c6719db | ocs-ge-2-0-shp-lamb93-d004-2021-01-01.parquet      | https://static.data.gouv.fr/resources/occupation-du-sol-a-grande-echelle-ign-et-cerema/20250121-153540/ocs-ge-2-0-shp-lamb93-d004-2021-01-01.parquet      | lamb93      | d004  |   2021 |\n",
      "| 5e9a096a-0e6b-4420-a493-2262ab91907b | ocs-ge-2-0-shp-lamb93-d004-2018-01-01.parquet      | https://static.data.gouv.fr/resources/occupation-du-sol-a-grande-echelle-ign-et-cerema/20250121-153447/ocs-ge-2-0-shp-lamb93-d004-2018-01-01.parquet      | lamb93      | d004  |   2018 |\n",
      "| d4c58925-ce60-431a-a0f3-f4cc969853ba | ocs-ge-2-0-shp-lamb93-d002-2021-01-01.parquet      | https://static.data.gouv.fr/resources/occupation-du-sol-a-grande-echelle-ign-et-cerema/20250121-153406/ocs-ge-2-0-shp-lamb93-d002-2021-01-01.parquet      | lamb93      | d002  |   2021 |\n",
      "| cea3a386-3887-4d37-821a-4dffe0d2bb76 | ocs-ge-2-0-shp-lamb93-d002-2018-01-01.parquet      | https://static.data.gouv.fr/resources/occupation-du-sol-a-grande-echelle-ign-et-cerema/20250121-153339/ocs-ge-2-0-shp-lamb93-d002-2018-01-01.parquet      | lamb93      | d002  |   2018 |\n",
      "| db3fc553-44be-4ba0-a4d1-938d0470f05a | ocs-ge-2-0-shp-lamb93-d001-2021-01-01.parquet      | https://static.data.gouv.fr/resources/occupation-du-sol-a-grande-echelle-ign-et-cerema/20250121-153307/ocs-ge-2-0-shp-lamb93-d001-2021-01-01.parquet      | lamb93      | d001  |   2021 |\n",
      "| c228e63f-e0bc-4532-8635-abe365e6c836 | ocs-ge-2-0-shp-lamb93-d001-2018-01-01.parquet      | https://static.data.gouv.fr/resources/occupation-du-sol-a-grande-echelle-ign-et-cerema/20250121-153117/ocs-ge-2-0-shp-lamb93-d001-2018-01-01.parquet      | lamb93      | d001  |   2018 |\n"
     ]
    }
   ],
   "source": [
    "print(ressources_link.to_markdown(index=False))"
   ]
  }
 ],
 "metadata": {
  "kernelspec": {
   "display_name": "Python 3 (ipykernel)",
   "language": "python",
   "name": "python3"
  },
  "language_info": {
   "codemirror_mode": {
    "name": "ipython",
    "version": 3
   },
   "file_extension": ".py",
   "mimetype": "text/x-python",
   "name": "python",
   "nbconvert_exporter": "python",
   "pygments_lexer": "ipython3",
   "version": "3.12.7"
  }
 },
 "nbformat": 4,
 "nbformat_minor": 5
}
