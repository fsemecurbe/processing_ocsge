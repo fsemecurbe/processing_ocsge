{
 "cells": [
  {
   "cell_type": "code",
   "execution_count": 1,
   "id": "e1bc0ce3-32f2-4d10-9b97-ee041c939b87",
   "metadata": {},
   "outputs": [],
   "source": [
    "import geopandas as gpd\n",
    "import pandas as pd\n",
    "import requests\n",
    "import os\n",
    "import shutil\n",
    "import getpass\n",
    "import glob\n",
    "import json\n",
    "import duckdb\n",
    "import io"
   ]
  },
  {
   "cell_type": "code",
   "execution_count": 2,
   "id": "3805040a-9802-489d-a4a8-7a61393ba418",
   "metadata": {},
   "outputs": [
    {
     "name": "stdin",
     "output_type": "stream",
     "text": [
      "http_proxy ········\n",
      "https_proxy ········\n"
     ]
    }
   ],
   "source": [
    "http_proxy = getpass.getpass(prompt='http_proxy')\n",
    "https_proxy = getpass.getpass(prompt='https_proxy')\n",
    "proxies = { \"http\"  : http_proxy, \"https\" : https_proxy}"
   ]
  },
  {
   "cell_type": "code",
   "execution_count": 3,
   "id": "13439c39-cbe9-4143-8ab2-323588bc7353",
   "metadata": {},
   "outputs": [],
   "source": [
    "s = requests.get('https://www.data.gouv.fr/fr/datasets/r/721bdff1-14b0-4fa5-a949-bd12f9ce714b', proxies=proxies).text\n",
    "\n",
    "liste_file = pd.read_json(io.StringIO(s))"
   ]
  },
  {
   "cell_type": "code",
   "execution_count": 4,
   "id": "47337b91-58d8-4b9d-b757-261fa9f6a625",
   "metadata": {},
   "outputs": [
    {
     "data": {
      "text/html": [
       "<div>\n",
       "<style scoped>\n",
       "    .dataframe tbody tr th:only-of-type {\n",
       "        vertical-align: middle;\n",
       "    }\n",
       "\n",
       "    .dataframe tbody tr th {\n",
       "        vertical-align: top;\n",
       "    }\n",
       "\n",
       "    .dataframe thead th {\n",
       "        text-align: right;\n",
       "    }\n",
       "</style>\n",
       "<table border=\"1\" class=\"dataframe\">\n",
       "  <thead>\n",
       "    <tr style=\"text-align: right;\">\n",
       "      <th></th>\n",
       "      <th>id</th>\n",
       "      <th>name</th>\n",
       "      <th>url</th>\n",
       "      <th>proj</th>\n",
       "      <th>dep</th>\n",
       "      <th>year</th>\n",
       "    </tr>\n",
       "  </thead>\n",
       "  <tbody>\n",
       "    <tr>\n",
       "      <th>2</th>\n",
       "      <td>4583734b-1a2d-4630-8975-7e2c497befaa</td>\n",
       "      <td>ocs-ge-2-0-shp-lamb93-d095-2021-01-01.parquet</td>\n",
       "      <td>https://static.data.gouv.fr/resources/occupati...</td>\n",
       "      <td>lamb93</td>\n",
       "      <td>d095</td>\n",
       "      <td>2021</td>\n",
       "    </tr>\n",
       "    <tr>\n",
       "      <th>3</th>\n",
       "      <td>3cc771a8-dfa5-4fb3-9cf1-f1c6f7b0576b</td>\n",
       "      <td>ocs-ge-2-0-shp-lamb93-d095-2018-01-01.parquet</td>\n",
       "      <td>https://static.data.gouv.fr/resources/occupati...</td>\n",
       "      <td>lamb93</td>\n",
       "      <td>d095</td>\n",
       "      <td>2018</td>\n",
       "    </tr>\n",
       "    <tr>\n",
       "      <th>4</th>\n",
       "      <td>d79d16d0-bd15-4a04-8e25-6abcac552da2</td>\n",
       "      <td>ocs-ge-2-0-shp-lamb93-d094-2021-01-01.parquet</td>\n",
       "      <td>https://static.data.gouv.fr/resources/occupati...</td>\n",
       "      <td>lamb93</td>\n",
       "      <td>d094</td>\n",
       "      <td>2021</td>\n",
       "    </tr>\n",
       "    <tr>\n",
       "      <th>5</th>\n",
       "      <td>3a9b6089-b4c7-4697-b942-ad38152b2601</td>\n",
       "      <td>ocs-ge-2-0-shp-lamb93-d094-2018-01-01.parquet</td>\n",
       "      <td>https://static.data.gouv.fr/resources/occupati...</td>\n",
       "      <td>lamb93</td>\n",
       "      <td>d094</td>\n",
       "      <td>2018</td>\n",
       "    </tr>\n",
       "    <tr>\n",
       "      <th>6</th>\n",
       "      <td>a674e8db-9cb8-4d33-9e4e-552b7def1c21</td>\n",
       "      <td>ocs-ge-2-0-shp-lamb93-d093-2021-01-01.parquet</td>\n",
       "      <td>https://static.data.gouv.fr/resources/occupati...</td>\n",
       "      <td>lamb93</td>\n",
       "      <td>d093</td>\n",
       "      <td>2021</td>\n",
       "    </tr>\n",
       "  </tbody>\n",
       "</table>\n",
       "</div>"
      ],
      "text/plain": [
       "                                     id  \\\n",
       "2  4583734b-1a2d-4630-8975-7e2c497befaa   \n",
       "3  3cc771a8-dfa5-4fb3-9cf1-f1c6f7b0576b   \n",
       "4  d79d16d0-bd15-4a04-8e25-6abcac552da2   \n",
       "5  3a9b6089-b4c7-4697-b942-ad38152b2601   \n",
       "6  a674e8db-9cb8-4d33-9e4e-552b7def1c21   \n",
       "\n",
       "                                            name  \\\n",
       "2  ocs-ge-2-0-shp-lamb93-d095-2021-01-01.parquet   \n",
       "3  ocs-ge-2-0-shp-lamb93-d095-2018-01-01.parquet   \n",
       "4  ocs-ge-2-0-shp-lamb93-d094-2021-01-01.parquet   \n",
       "5  ocs-ge-2-0-shp-lamb93-d094-2018-01-01.parquet   \n",
       "6  ocs-ge-2-0-shp-lamb93-d093-2021-01-01.parquet   \n",
       "\n",
       "                                                 url    proj   dep  year  \n",
       "2  https://static.data.gouv.fr/resources/occupati...  lamb93  d095  2021  \n",
       "3  https://static.data.gouv.fr/resources/occupati...  lamb93  d095  2018  \n",
       "4  https://static.data.gouv.fr/resources/occupati...  lamb93  d094  2021  \n",
       "5  https://static.data.gouv.fr/resources/occupati...  lamb93  d094  2018  \n",
       "6  https://static.data.gouv.fr/resources/occupati...  lamb93  d093  2021  "
      ]
     },
     "execution_count": 4,
     "metadata": {},
     "output_type": "execute_result"
    }
   ],
   "source": [
    "liste_file_93 = liste_file[liste_file.proj=='lamb93']\n",
    "liste_file_93.head()"
   ]
  },
  {
   "cell_type": "code",
   "execution_count": 5,
   "id": "41af7374-e4ee-47a3-8c1b-83066aa3c5d0",
   "metadata": {},
   "outputs": [],
   "source": [
    "url = liste_file_93.url.iloc[0]"
   ]
  },
  {
   "cell_type": "code",
   "execution_count": 9,
   "id": "b8f31c52-ae92-4466-bf90-987265f6247e",
   "metadata": {},
   "outputs": [],
   "source": [
    "duckdb.sql(\"SET http_proxy = '\"+ http_proxy + \"';\")"
   ]
  },
  {
   "cell_type": "code",
   "execution_count": 21,
   "id": "dc462663-aaaa-4cfe-92ad-5112e79ebf20",
   "metadata": {},
   "outputs": [],
   "source": [
    "duckdb.sql('INSTALL SPATIAL;LOAD SPATIAL;')"
   ]
  },
  {
   "cell_type": "code",
   "execution_count": 30,
   "id": "87fde42e-5fe8-4a4f-bdd1-dd7fdc7efb1b",
   "metadata": {},
   "outputs": [
    {
     "data": {
      "application/vnd.jupyter.widget-view+json": {
       "model_id": "ef0c6a7b57874a25abb929214502612c",
       "version_major": 2,
       "version_minor": 0
      },
      "text/plain": [
       "FloatProgress(value=0.0, layout=Layout(width='auto'), style=ProgressStyle(bar_color='black'))"
      ]
     },
     "metadata": {},
     "output_type": "display_data"
    },
    {
     "data": {
      "text/plain": [
       "┌──────────────────────────┬───────────┬─────────┬───────────┬─────────┬──────────┬────────────┬─────────┬─────────────────────────────────────────────────────────────────────────────────────────────────────────────────────────────────────────────────────────────────────┐\n",
       "│            ID            │  CODE_CS  │ CODE_US │ MILLESIME │ SOURCE  │ OSSATURE │ ID_ORIGINE │ CODE_OR │                                                                              geometry                                                                               │\n",
       "│         varchar          │  varchar  │ varchar │  varchar  │ varchar │  int32   │  varchar   │ varchar │                                                                              geometry                                                                               │\n",
       "├──────────────────────────┼───────────┼─────────┼───────────┼─────────┼──────────┼────────────┼─────────┼─────────────────────────────────────────────────────────────────────────────────────────────────────────────────────────────────────────────────────────────────────┤\n",
       "│ OCSGE0000000010012072260 │ CS1.1.1.1 │ US1.1   │ 2021      │ calcul  │        0 │ NC         │ NC      │ POLYGON ((653310.27 6882047.82, 653301.94 6882037.83, 653290.74 6882047.17, 653290.07 6882047.73, 653290.26 6882047.96, 653298.4 6882057.72, 653310.27 6882047.82)) │\n",
       "└──────────────────────────┴───────────┴─────────┴───────────┴─────────┴──────────┴────────────┴─────────┴─────────────────────────────────────────────────────────────────────────────────────────────────────────────────────────────────────────────────────────────────────┘"
      ]
     },
     "execution_count": 30,
     "metadata": {},
     "output_type": "execute_result"
    }
   ],
   "source": [
    "duckdb.sql(\"SELECT * FROM '{}' LIMIT 1\".format(url)) "
   ]
  },
  {
   "cell_type": "code",
   "execution_count": 31,
   "id": "29e901d1-3a17-4283-80b1-972ba3d54472",
   "metadata": {},
   "outputs": [
    {
     "data": {
      "application/vnd.jupyter.widget-view+json": {
       "model_id": "ab3977a5cf9c4401b591d747a9d18703",
       "version_major": 2,
       "version_minor": 0
      },
      "text/plain": [
       "FloatProgress(value=0.0, layout=Layout(width='auto'), style=ProgressStyle(bar_color='black'))"
      ]
     },
     "metadata": {},
     "output_type": "display_data"
    },
    {
     "data": {
      "text/plain": [
       "┌───────────┬────────────────────────┐\n",
       "│  CODE_CS  │ sum(st_area(geometry)) │\n",
       "│  varchar  │         double         │\n",
       "├───────────┼────────────────────────┤\n",
       "│ CS2.2.1   │      709811008.1073476 │\n",
       "│ CS1.1.1.2 │      91032799.03120703 │\n",
       "│ CS2.1.1.1 │     315039216.66984725 │\n",
       "│ CS2.1.2   │     15196201.312700137 │\n",
       "│ CS1.1.1.1 │      94789447.16554657 │\n",
       "│ CS2.1.1.2 │       2272920.53015035 │\n",
       "│ CS2.1.3   │     29765.911000016407 │\n",
       "│ CS1.1.2.1 │     14041188.368150303 │\n",
       "│ CS1.2.2   │      9844322.512449471 │\n",
       "│ CS2.1.1.3 │     1484888.8495997686 │\n",
       "│ CS1.2.1   │     15949.176649975225 │\n",
       "│ CS1.1.2.2 │      8146.834249978114 │\n",
       "├───────────┴────────────────────────┤\n",
       "│ 12 rows                  2 columns │\n",
       "└────────────────────────────────────┘"
      ]
     },
     "execution_count": 31,
     "metadata": {},
     "output_type": "execute_result"
    }
   ],
   "source": [
    "duckdb.sql(\"SELECT CODE_CS, sum(st_area(geometry)) FROM '{}' group by CODE_CS\".format(url)) "
   ]
  }
 ],
 "metadata": {
  "kernelspec": {
   "display_name": "Python 3 (ipykernel)",
   "language": "python",
   "name": "python3"
  },
  "language_info": {
   "codemirror_mode": {
    "name": "ipython",
    "version": 3
   },
   "file_extension": ".py",
   "mimetype": "text/x-python",
   "name": "python",
   "nbconvert_exporter": "python",
   "pygments_lexer": "ipython3",
   "version": "3.12.7"
  }
 },
 "nbformat": 4,
 "nbformat_minor": 5
}
