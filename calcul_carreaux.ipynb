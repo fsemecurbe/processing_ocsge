{
 "cells": [
  {
   "cell_type": "code",
   "execution_count": 13,
   "id": "65cfaefb",
   "metadata": {},
   "outputs": [],
   "source": [
    "import geopandas as gpd\n",
    "import pandas as pd\n",
    "import requests\n",
    "import os\n",
    "import shutil\n",
    "import getpass\n",
    "import glob\n",
    "import json\n",
    "import duckdb\n",
    "import io\n",
    "import getpass"
   ]
  },
  {
   "cell_type": "code",
   "execution_count": 26,
   "id": "13821e44",
   "metadata": {},
   "outputs": [
    {
     "name": "stdout",
     "output_type": "stream",
     "text": [
      "http_proxy········\n",
      "https_proxy········\n"
     ]
    }
   ],
   "source": [
    "http_proxy = getpass.getpass(prompt='http_proxy')\n",
    "https_proxy = getpass.getpass(prompt='https_proxy')\n",
    "proxies = { \"http\"  :   http_proxy, \"https\" :  https_proxy}"
   ]
  },
  {
   "cell_type": "code",
   "execution_count": 9,
   "id": "858e2904",
   "metadata": {},
   "outputs": [],
   "source": [
    "duckdb.sql('LOAD SPATIAL;')"
   ]
  },
  {
   "cell_type": "code",
   "execution_count": 30,
   "id": "92b79163",
   "metadata": {},
   "outputs": [],
   "source": [
    "duckdb.sql(\"SET http_proxy = '\"+ http_proxy + \"';\")"
   ]
  },
  {
   "cell_type": "code",
   "execution_count": 27,
   "id": "b2957f18",
   "metadata": {},
   "outputs": [],
   "source": [
    "s = requests.get('https://www.data.gouv.fr/fr/datasets/r/721bdff1-14b0-4fa5-a949-bd12f9ce714b', proxies=proxies).text\n",
    "\n",
    "liste_file = pd.read_json(io.StringIO(s))"
   ]
  },
  {
   "cell_type": "code",
   "execution_count": 134,
   "id": "02a483d2",
   "metadata": {},
   "outputs": [],
   "source": [
    "liste_file_93 = liste_file[liste_file.proj=='lamb93']\n",
    "liste_file_93 = liste_file_93.sort_values(['dep', 'year'])\n",
    "liste_file_93 = liste_file_93.groupby(['dep']).last().reset_index()"
   ]
  },
  {
   "cell_type": "code",
   "execution_count": null,
   "id": "4be6d9a7",
   "metadata": {},
   "outputs": [
    {
     "name": "stdout",
     "output_type": "stream",
     "text": [
      "d001\n"
     ]
    },
    {
     "data": {
      "application/vnd.jupyter.widget-view+json": {
       "model_id": "f72d63102e434453b8f08c34dae4a87f",
       "version_major": 2,
       "version_minor": 0
      },
      "text/plain": [
       "FloatProgress(value=0.0, layout=Layout(width='auto'), style=ProgressStyle(bar_color='black'))"
      ]
     },
     "metadata": {},
     "output_type": "display_data"
    },
    {
     "data": {
      "application/vnd.jupyter.widget-view+json": {
       "model_id": "ead3e62a95114afc9b1fa55bff80aacf",
       "version_major": 2,
       "version_minor": 0
      },
      "text/plain": [
       "FloatProgress(value=0.0, layout=Layout(width='auto'), style=ProgressStyle(bar_color='black'))"
      ]
     },
     "metadata": {},
     "output_type": "display_data"
    },
    {
     "data": {
      "application/vnd.jupyter.widget-view+json": {
       "model_id": "551ffc8be6f94e199a02a81c5867e44e",
       "version_major": 2,
       "version_minor": 0
      },
      "text/plain": [
       "FloatProgress(value=0.0, layout=Layout(width='auto'), style=ProgressStyle(bar_color='black'))"
      ]
     },
     "metadata": {},
     "output_type": "display_data"
    },
    {
     "name": "stdout",
     "output_type": "stream",
     "text": [
      "d002\n"
     ]
    },
    {
     "data": {
      "application/vnd.jupyter.widget-view+json": {
       "model_id": "e95bd41495a84a6e901672aa097bc492",
       "version_major": 2,
       "version_minor": 0
      },
      "text/plain": [
       "FloatProgress(value=0.0, layout=Layout(width='auto'), style=ProgressStyle(bar_color='black'))"
      ]
     },
     "metadata": {},
     "output_type": "display_data"
    },
    {
     "data": {
      "application/vnd.jupyter.widget-view+json": {
       "model_id": "289c9f8c977b4f5b931558bdcd3bcb20",
       "version_major": 2,
       "version_minor": 0
      },
      "text/plain": [
       "FloatProgress(value=0.0, layout=Layout(width='auto'), style=ProgressStyle(bar_color='black'))"
      ]
     },
     "metadata": {},
     "output_type": "display_data"
    },
    {
     "data": {
      "application/vnd.jupyter.widget-view+json": {
       "model_id": "22be7050cbe84dfc9ffb1abeef41ff8b",
       "version_major": 2,
       "version_minor": 0
      },
      "text/plain": [
       "FloatProgress(value=0.0, layout=Layout(width='auto'), style=ProgressStyle(bar_color='black'))"
      ]
     },
     "metadata": {},
     "output_type": "display_data"
    },
    {
     "name": "stdout",
     "output_type": "stream",
     "text": [
      "d004\n"
     ]
    },
    {
     "data": {
      "application/vnd.jupyter.widget-view+json": {
       "model_id": "029ea375d4fd44969bb5e479d0e23e79",
       "version_major": 2,
       "version_minor": 0
      },
      "text/plain": [
       "FloatProgress(value=0.0, layout=Layout(width='auto'), style=ProgressStyle(bar_color='black'))"
      ]
     },
     "metadata": {},
     "output_type": "display_data"
    },
    {
     "data": {
      "application/vnd.jupyter.widget-view+json": {
       "model_id": "ecee21b7c3d948d0956bef847cc83458",
       "version_major": 2,
       "version_minor": 0
      },
      "text/plain": [
       "FloatProgress(value=0.0, layout=Layout(width='auto'), style=ProgressStyle(bar_color='black'))"
      ]
     },
     "metadata": {},
     "output_type": "display_data"
    },
    {
     "data": {
      "application/vnd.jupyter.widget-view+json": {
       "model_id": "b2a999b97d0547e1ba6ad7319c31d515",
       "version_major": 2,
       "version_minor": 0
      },
      "text/plain": [
       "FloatProgress(value=0.0, layout=Layout(width='auto'), style=ProgressStyle(bar_color='black'))"
      ]
     },
     "metadata": {},
     "output_type": "display_data"
    },
    {
     "name": "stdout",
     "output_type": "stream",
     "text": [
      "d005\n"
     ]
    },
    {
     "data": {
      "application/vnd.jupyter.widget-view+json": {
       "model_id": "cefe55773f8a44d2a5fd2bf5b798bd73",
       "version_major": 2,
       "version_minor": 0
      },
      "text/plain": [
       "FloatProgress(value=0.0, layout=Layout(width='auto'), style=ProgressStyle(bar_color='black'))"
      ]
     },
     "metadata": {},
     "output_type": "display_data"
    },
    {
     "data": {
      "application/vnd.jupyter.widget-view+json": {
       "model_id": "fea4d2acfd184b95862786bbe222b644",
       "version_major": 2,
       "version_minor": 0
      },
      "text/plain": [
       "FloatProgress(value=0.0, layout=Layout(width='auto'), style=ProgressStyle(bar_color='black'))"
      ]
     },
     "metadata": {},
     "output_type": "display_data"
    },
    {
     "data": {
      "application/vnd.jupyter.widget-view+json": {
       "model_id": "d46844f27e704e798fc30b1bdee38062",
       "version_major": 2,
       "version_minor": 0
      },
      "text/plain": [
       "FloatProgress(value=0.0, layout=Layout(width='auto'), style=ProgressStyle(bar_color='black'))"
      ]
     },
     "metadata": {},
     "output_type": "display_data"
    },
    {
     "name": "stdout",
     "output_type": "stream",
     "text": [
      "d006\n"
     ]
    },
    {
     "data": {
      "application/vnd.jupyter.widget-view+json": {
       "model_id": "56806d67a56c434c96e963cef6614dfa",
       "version_major": 2,
       "version_minor": 0
      },
      "text/plain": [
       "FloatProgress(value=0.0, layout=Layout(width='auto'), style=ProgressStyle(bar_color='black'))"
      ]
     },
     "metadata": {},
     "output_type": "display_data"
    },
    {
     "data": {
      "application/vnd.jupyter.widget-view+json": {
       "model_id": "70a99ad5ed4b41d78bb2d28cb2182498",
       "version_major": 2,
       "version_minor": 0
      },
      "text/plain": [
       "FloatProgress(value=0.0, layout=Layout(width='auto'), style=ProgressStyle(bar_color='black'))"
      ]
     },
     "metadata": {},
     "output_type": "display_data"
    },
    {
     "data": {
      "application/vnd.jupyter.widget-view+json": {
       "model_id": "5d65c60f5c8749d1b720eeb8f0413a0b",
       "version_major": 2,
       "version_minor": 0
      },
      "text/plain": [
       "FloatProgress(value=0.0, layout=Layout(width='auto'), style=ProgressStyle(bar_color='black'))"
      ]
     },
     "metadata": {},
     "output_type": "display_data"
    },
    {
     "name": "stdout",
     "output_type": "stream",
     "text": [
      "d008\n"
     ]
    },
    {
     "data": {
      "application/vnd.jupyter.widget-view+json": {
       "model_id": "f0d743ff1510482ea441c5eab7cbe6aa",
       "version_major": 2,
       "version_minor": 0
      },
      "text/plain": [
       "FloatProgress(value=0.0, layout=Layout(width='auto'), style=ProgressStyle(bar_color='black'))"
      ]
     },
     "metadata": {},
     "output_type": "display_data"
    },
    {
     "data": {
      "application/vnd.jupyter.widget-view+json": {
       "model_id": "099142626c1a4713847aa979de5cd7d8",
       "version_major": 2,
       "version_minor": 0
      },
      "text/plain": [
       "FloatProgress(value=0.0, layout=Layout(width='auto'), style=ProgressStyle(bar_color='black'))"
      ]
     },
     "metadata": {},
     "output_type": "display_data"
    },
    {
     "data": {
      "application/vnd.jupyter.widget-view+json": {
       "model_id": "345cb230dac44572a6d74461e6d0a957",
       "version_major": 2,
       "version_minor": 0
      },
      "text/plain": [
       "FloatProgress(value=0.0, layout=Layout(width='auto'), style=ProgressStyle(bar_color='black'))"
      ]
     },
     "metadata": {},
     "output_type": "display_data"
    },
    {
     "name": "stdout",
     "output_type": "stream",
     "text": [
      "d009\n"
     ]
    },
    {
     "data": {
      "application/vnd.jupyter.widget-view+json": {
       "model_id": "be55310a5c174b8fb931f9d9a93cffe6",
       "version_major": 2,
       "version_minor": 0
      },
      "text/plain": [
       "FloatProgress(value=0.0, layout=Layout(width='auto'), style=ProgressStyle(bar_color='black'))"
      ]
     },
     "metadata": {},
     "output_type": "display_data"
    },
    {
     "data": {
      "application/vnd.jupyter.widget-view+json": {
       "model_id": "b9429cf49356432e9ee1a9bce53e3d8d",
       "version_major": 2,
       "version_minor": 0
      },
      "text/plain": [
       "FloatProgress(value=0.0, layout=Layout(width='auto'), style=ProgressStyle(bar_color='black'))"
      ]
     },
     "metadata": {},
     "output_type": "display_data"
    },
    {
     "data": {
      "application/vnd.jupyter.widget-view+json": {
       "model_id": "7d93404079884f3983b969dced0e0f8f",
       "version_major": 2,
       "version_minor": 0
      },
      "text/plain": [
       "FloatProgress(value=0.0, layout=Layout(width='auto'), style=ProgressStyle(bar_color='black'))"
      ]
     },
     "metadata": {},
     "output_type": "display_data"
    },
    {
     "name": "stdout",
     "output_type": "stream",
     "text": [
      "d010\n"
     ]
    },
    {
     "data": {
      "application/vnd.jupyter.widget-view+json": {
       "model_id": "ad23810ad7fe4a1aa6b2f3b9e04d7d0f",
       "version_major": 2,
       "version_minor": 0
      },
      "text/plain": [
       "FloatProgress(value=0.0, layout=Layout(width='auto'), style=ProgressStyle(bar_color='black'))"
      ]
     },
     "metadata": {},
     "output_type": "display_data"
    },
    {
     "data": {
      "application/vnd.jupyter.widget-view+json": {
       "model_id": "8273fbbb7f6a4ce58bb315cf34839966",
       "version_major": 2,
       "version_minor": 0
      },
      "text/plain": [
       "FloatProgress(value=0.0, layout=Layout(width='auto'), style=ProgressStyle(bar_color='black'))"
      ]
     },
     "metadata": {},
     "output_type": "display_data"
    },
    {
     "data": {
      "application/vnd.jupyter.widget-view+json": {
       "model_id": "6d53f01ec57b4569aebdc29b058443b2",
       "version_major": 2,
       "version_minor": 0
      },
      "text/plain": [
       "FloatProgress(value=0.0, layout=Layout(width='auto'), style=ProgressStyle(bar_color='black'))"
      ]
     },
     "metadata": {},
     "output_type": "display_data"
    },
    {
     "name": "stdout",
     "output_type": "stream",
     "text": [
      "d011\n"
     ]
    },
    {
     "data": {
      "application/vnd.jupyter.widget-view+json": {
       "model_id": "7fe167788aed4700a24853b3fe6ea236",
       "version_major": 2,
       "version_minor": 0
      },
      "text/plain": [
       "FloatProgress(value=0.0, layout=Layout(width='auto'), style=ProgressStyle(bar_color='black'))"
      ]
     },
     "metadata": {},
     "output_type": "display_data"
    },
    {
     "data": {
      "application/vnd.jupyter.widget-view+json": {
       "model_id": "927a6b42e1ea4180a925cab6f31c4e7e",
       "version_major": 2,
       "version_minor": 0
      },
      "text/plain": [
       "FloatProgress(value=0.0, layout=Layout(width='auto'), style=ProgressStyle(bar_color='black'))"
      ]
     },
     "metadata": {},
     "output_type": "display_data"
    },
    {
     "data": {
      "application/vnd.jupyter.widget-view+json": {
       "model_id": "06d16da7db864191ad86b713a4f74ebc",
       "version_major": 2,
       "version_minor": 0
      },
      "text/plain": [
       "FloatProgress(value=0.0, layout=Layout(width='auto'), style=ProgressStyle(bar_color='black'))"
      ]
     },
     "metadata": {},
     "output_type": "display_data"
    },
    {
     "name": "stdout",
     "output_type": "stream",
     "text": [
      "d015\n"
     ]
    },
    {
     "data": {
      "application/vnd.jupyter.widget-view+json": {
       "model_id": "7cabad07da8846ba9efd1920ee2e7d02",
       "version_major": 2,
       "version_minor": 0
      },
      "text/plain": [
       "FloatProgress(value=0.0, layout=Layout(width='auto'), style=ProgressStyle(bar_color='black'))"
      ]
     },
     "metadata": {},
     "output_type": "display_data"
    },
    {
     "data": {
      "application/vnd.jupyter.widget-view+json": {
       "model_id": "cccb8ad70d4046c4ac9ca9a88c0196f8",
       "version_major": 2,
       "version_minor": 0
      },
      "text/plain": [
       "FloatProgress(value=0.0, layout=Layout(width='auto'), style=ProgressStyle(bar_color='black'))"
      ]
     },
     "metadata": {},
     "output_type": "display_data"
    },
    {
     "data": {
      "application/vnd.jupyter.widget-view+json": {
       "model_id": "62c3fff60f9441f2a98515ebd5f6d81c",
       "version_major": 2,
       "version_minor": 0
      },
      "text/plain": [
       "FloatProgress(value=0.0, layout=Layout(width='auto'), style=ProgressStyle(bar_color='black'))"
      ]
     },
     "metadata": {},
     "output_type": "display_data"
    },
    {
     "name": "stdout",
     "output_type": "stream",
     "text": [
      "d017\n"
     ]
    },
    {
     "data": {
      "application/vnd.jupyter.widget-view+json": {
       "model_id": "13b97fb7dedd48c4b50ab5162060bce5",
       "version_major": 2,
       "version_minor": 0
      },
      "text/plain": [
       "FloatProgress(value=0.0, layout=Layout(width='auto'), style=ProgressStyle(bar_color='black'))"
      ]
     },
     "metadata": {},
     "output_type": "display_data"
    },
    {
     "data": {
      "application/vnd.jupyter.widget-view+json": {
       "model_id": "a3db57f0ec98471d9bd25c36a7106572",
       "version_major": 2,
       "version_minor": 0
      },
      "text/plain": [
       "FloatProgress(value=0.0, layout=Layout(width='auto'), style=ProgressStyle(bar_color='black'))"
      ]
     },
     "metadata": {},
     "output_type": "display_data"
    },
    {
     "data": {
      "application/vnd.jupyter.widget-view+json": {
       "model_id": "8c1942fbe26c4470a399850eef15f242",
       "version_major": 2,
       "version_minor": 0
      },
      "text/plain": [
       "FloatProgress(value=0.0, layout=Layout(width='auto'), style=ProgressStyle(bar_color='black'))"
      ]
     },
     "metadata": {},
     "output_type": "display_data"
    },
    {
     "name": "stdout",
     "output_type": "stream",
     "text": [
      "d022\n"
     ]
    },
    {
     "data": {
      "application/vnd.jupyter.widget-view+json": {
       "model_id": "3e560ffa6cb741108e417fd818656b04",
       "version_major": 2,
       "version_minor": 0
      },
      "text/plain": [
       "FloatProgress(value=0.0, layout=Layout(width='auto'), style=ProgressStyle(bar_color='black'))"
      ]
     },
     "metadata": {},
     "output_type": "display_data"
    },
    {
     "data": {
      "application/vnd.jupyter.widget-view+json": {
       "model_id": "22fd72115beb494e8a8c3b72c370050e",
       "version_major": 2,
       "version_minor": 0
      },
      "text/plain": [
       "FloatProgress(value=0.0, layout=Layout(width='auto'), style=ProgressStyle(bar_color='black'))"
      ]
     },
     "metadata": {},
     "output_type": "display_data"
    },
    {
     "data": {
      "application/vnd.jupyter.widget-view+json": {
       "model_id": "3b56f6fb4afd442a93f2ce724fa02f2c",
       "version_major": 2,
       "version_minor": 0
      },
      "text/plain": [
       "FloatProgress(value=0.0, layout=Layout(width='auto'), style=ProgressStyle(bar_color='black'))"
      ]
     },
     "metadata": {},
     "output_type": "display_data"
    }
   ],
   "source": [
    "for index, row in liste_file_93.iterrows():\n",
    "    print(row.dep)\n",
    "    duckdb.sql(\"CREATE OR REPLACE VIEW ocs_ge AS from read_parquet('{}')\".format(row['url']))\n",
    "    duckdb.sql(\"create or replace table occ_sol as select *  from ocs_ge;\")\n",
    "    duckdb.sql(\"create or replace table occ_sol as \" \n",
    "           \"select *, ST_Transform (geometry, 'EPSG:2154', 'EPSG:3035') \"\n",
    "           \"from occ_sol\")\n",
    "    duckdb.sql(\"create index sindex on occ_sol USING RTREE(geometry);\")\n",
    "    duckdb.sql(\"create or replace table etendue as \"  \n",
    "           \"select st_Xmin(geometry) as xmin, st_Xmax(geometry) as xmax, st_Ymin(geometry) as ymin, st_Ymax(geometry) as ymax \"\n",
    "           \"from (select ST_Extent_Agg(geometry) as geometry from occ_sol);\")\n",
    "    duckdb.sql(\"set variable size = 1000;\"\n",
    "           \"create or replace table carreaux_size as \" \n",
    "           \"select x,y, ST_GeomFromText('POLYGON(('||x||' '||y||',\"\n",
    "                                       \"'||x + getvariable('size')||' '||y||', \"  \n",
    "                                       \"'||x + getvariable('size')||' '||y+getvariable('size')||', \"\n",
    "                                       \"'||x||' '||y+getvariable('size')||', \"\n",
    "                                       \"'||x||' '||y||'))') as geometry \"\n",
    "           \"from \"\n",
    "           \"(select unnest(generate_series(cast(floor(xmin/getvariable('size'))*getvariable('size') as int), cast(floor(xmax/getvariable('size'))*getvariable('size') as int), getvariable('size'))) as x from etendue), \"\n",
    "           \"(select unnest(generate_series(cast(floor(ymin/getvariable('size'))*getvariable('size') as int), cast(floor(ymax/getvariable('size'))*getvariable('size') as int), getvariable('size'))) as y from etendue);\")\n",
    "    duckdb.sql(\"create or replace table occupation_carroye as \" \n",
    "           \"select x, y, CODE_CS, sum(st_area(st_intersection(occ_sol.geometry, carreaux_size.geometry))) as surface \"\n",
    "           \"from occ_sol, carreaux_size \" \n",
    "           \"where ST_Intersects(occ_sol.geometry, carreaux_size.geometry) \"\n",
    "           \"group by x,y,CODE_CS;\")\n",
    "    duckdb.sql(\"COPY occupation_carroye TO carreaux_\"+ row.dep + \"_\"+ str(row.year)  +\".csv \")"
   ]
  },
  {
   "cell_type": "code",
   "execution_count": 129,
   "id": "d345960a",
   "metadata": {},
   "outputs": [],
   "source": [
    "first_rows = liste_file_93.groupby(['dep']).first().reset_index()"
   ]
  },
  {
   "cell_type": "code",
   "execution_count": 130,
   "id": "f82f07d3",
   "metadata": {},
   "outputs": [
    {
     "data": {
      "text/html": [
       "<div>\n",
       "<style scoped>\n",
       "    .dataframe tbody tr th:only-of-type {\n",
       "        vertical-align: middle;\n",
       "    }\n",
       "\n",
       "    .dataframe tbody tr th {\n",
       "        vertical-align: top;\n",
       "    }\n",
       "\n",
       "    .dataframe thead th {\n",
       "        text-align: right;\n",
       "    }\n",
       "</style>\n",
       "<table border=\"1\" class=\"dataframe\">\n",
       "  <thead>\n",
       "    <tr style=\"text-align: right;\">\n",
       "      <th></th>\n",
       "      <th>dep</th>\n",
       "      <th>id</th>\n",
       "      <th>name</th>\n",
       "      <th>url</th>\n",
       "      <th>proj</th>\n",
       "      <th>year</th>\n",
       "    </tr>\n",
       "  </thead>\n",
       "  <tbody>\n",
       "    <tr>\n",
       "      <th>0</th>\n",
       "      <td>d001</td>\n",
       "      <td>db3fc553-44be-4ba0-a4d1-938d0470f05a</td>\n",
       "      <td>ocs-ge-2-0-shp-lamb93-d001-2021-01-01.parquet</td>\n",
       "      <td>https://static.data.gouv.fr/resources/occupati...</td>\n",
       "      <td>lamb93</td>\n",
       "      <td>2021</td>\n",
       "    </tr>\n",
       "    <tr>\n",
       "      <th>1</th>\n",
       "      <td>d002</td>\n",
       "      <td>d4c58925-ce60-431a-a0f3-f4cc969853ba</td>\n",
       "      <td>ocs-ge-2-0-shp-lamb93-d002-2021-01-01.parquet</td>\n",
       "      <td>https://static.data.gouv.fr/resources/occupati...</td>\n",
       "      <td>lamb93</td>\n",
       "      <td>2021</td>\n",
       "    </tr>\n",
       "    <tr>\n",
       "      <th>2</th>\n",
       "      <td>d004</td>\n",
       "      <td>332103e4-f349-438f-8642-6aa07c6719db</td>\n",
       "      <td>ocs-ge-2-0-shp-lamb93-d004-2021-01-01.parquet</td>\n",
       "      <td>https://static.data.gouv.fr/resources/occupati...</td>\n",
       "      <td>lamb93</td>\n",
       "      <td>2021</td>\n",
       "    </tr>\n",
       "    <tr>\n",
       "      <th>3</th>\n",
       "      <td>d005</td>\n",
       "      <td>c0b1d8d3-fbb2-417f-afea-818f7a4c3d6f</td>\n",
       "      <td>ocs-ge-2-0-shp-lamb93-d005-2022-01-01.parquet</td>\n",
       "      <td>https://static.data.gouv.fr/resources/occupati...</td>\n",
       "      <td>lamb93</td>\n",
       "      <td>2022</td>\n",
       "    </tr>\n",
       "    <tr>\n",
       "      <th>4</th>\n",
       "      <td>d006</td>\n",
       "      <td>da14c57e-f3d5-4ff7-bf8c-3358a93f1128</td>\n",
       "      <td>ocs-ge-2-0-shp-lamb93-d006-2020-01-01.parquet</td>\n",
       "      <td>https://static.data.gouv.fr/resources/occupati...</td>\n",
       "      <td>lamb93</td>\n",
       "      <td>2020</td>\n",
       "    </tr>\n",
       "    <tr>\n",
       "      <th>...</th>\n",
       "      <td>...</td>\n",
       "      <td>...</td>\n",
       "      <td>...</td>\n",
       "      <td>...</td>\n",
       "      <td>...</td>\n",
       "      <td>...</td>\n",
       "    </tr>\n",
       "    <tr>\n",
       "      <th>58</th>\n",
       "      <td>d091</td>\n",
       "      <td>47877895-914d-4871-996a-f2bbf9bb9767</td>\n",
       "      <td>ocs-ge-2-0-shp-lamb93-d091-2021-01-01.parquet</td>\n",
       "      <td>https://static.data.gouv.fr/resources/occupati...</td>\n",
       "      <td>lamb93</td>\n",
       "      <td>2021</td>\n",
       "    </tr>\n",
       "    <tr>\n",
       "      <th>59</th>\n",
       "      <td>d092</td>\n",
       "      <td>ea38e65c-02a4-43dd-8fe4-4f3c89f7a221</td>\n",
       "      <td>ocs-ge-2-0-shp-lamb93-d092-2021-01-01.parquet</td>\n",
       "      <td>https://static.data.gouv.fr/resources/occupati...</td>\n",
       "      <td>lamb93</td>\n",
       "      <td>2021</td>\n",
       "    </tr>\n",
       "    <tr>\n",
       "      <th>60</th>\n",
       "      <td>d093</td>\n",
       "      <td>a674e8db-9cb8-4d33-9e4e-552b7def1c21</td>\n",
       "      <td>ocs-ge-2-0-shp-lamb93-d093-2021-01-01.parquet</td>\n",
       "      <td>https://static.data.gouv.fr/resources/occupati...</td>\n",
       "      <td>lamb93</td>\n",
       "      <td>2021</td>\n",
       "    </tr>\n",
       "    <tr>\n",
       "      <th>61</th>\n",
       "      <td>d094</td>\n",
       "      <td>d79d16d0-bd15-4a04-8e25-6abcac552da2</td>\n",
       "      <td>ocs-ge-2-0-shp-lamb93-d094-2021-01-01.parquet</td>\n",
       "      <td>https://static.data.gouv.fr/resources/occupati...</td>\n",
       "      <td>lamb93</td>\n",
       "      <td>2021</td>\n",
       "    </tr>\n",
       "    <tr>\n",
       "      <th>62</th>\n",
       "      <td>d095</td>\n",
       "      <td>4583734b-1a2d-4630-8975-7e2c497befaa</td>\n",
       "      <td>ocs-ge-2-0-shp-lamb93-d095-2021-01-01.parquet</td>\n",
       "      <td>https://static.data.gouv.fr/resources/occupati...</td>\n",
       "      <td>lamb93</td>\n",
       "      <td>2021</td>\n",
       "    </tr>\n",
       "  </tbody>\n",
       "</table>\n",
       "<p>63 rows × 6 columns</p>\n",
       "</div>"
      ],
      "text/plain": [
       "     dep                                    id  \\\n",
       "0   d001  db3fc553-44be-4ba0-a4d1-938d0470f05a   \n",
       "1   d002  d4c58925-ce60-431a-a0f3-f4cc969853ba   \n",
       "2   d004  332103e4-f349-438f-8642-6aa07c6719db   \n",
       "3   d005  c0b1d8d3-fbb2-417f-afea-818f7a4c3d6f   \n",
       "4   d006  da14c57e-f3d5-4ff7-bf8c-3358a93f1128   \n",
       "..   ...                                   ...   \n",
       "58  d091  47877895-914d-4871-996a-f2bbf9bb9767   \n",
       "59  d092  ea38e65c-02a4-43dd-8fe4-4f3c89f7a221   \n",
       "60  d093  a674e8db-9cb8-4d33-9e4e-552b7def1c21   \n",
       "61  d094  d79d16d0-bd15-4a04-8e25-6abcac552da2   \n",
       "62  d095  4583734b-1a2d-4630-8975-7e2c497befaa   \n",
       "\n",
       "                                             name  \\\n",
       "0   ocs-ge-2-0-shp-lamb93-d001-2021-01-01.parquet   \n",
       "1   ocs-ge-2-0-shp-lamb93-d002-2021-01-01.parquet   \n",
       "2   ocs-ge-2-0-shp-lamb93-d004-2021-01-01.parquet   \n",
       "3   ocs-ge-2-0-shp-lamb93-d005-2022-01-01.parquet   \n",
       "4   ocs-ge-2-0-shp-lamb93-d006-2020-01-01.parquet   \n",
       "..                                            ...   \n",
       "58  ocs-ge-2-0-shp-lamb93-d091-2021-01-01.parquet   \n",
       "59  ocs-ge-2-0-shp-lamb93-d092-2021-01-01.parquet   \n",
       "60  ocs-ge-2-0-shp-lamb93-d093-2021-01-01.parquet   \n",
       "61  ocs-ge-2-0-shp-lamb93-d094-2021-01-01.parquet   \n",
       "62  ocs-ge-2-0-shp-lamb93-d095-2021-01-01.parquet   \n",
       "\n",
       "                                                  url    proj  year  \n",
       "0   https://static.data.gouv.fr/resources/occupati...  lamb93  2021  \n",
       "1   https://static.data.gouv.fr/resources/occupati...  lamb93  2021  \n",
       "2   https://static.data.gouv.fr/resources/occupati...  lamb93  2021  \n",
       "3   https://static.data.gouv.fr/resources/occupati...  lamb93  2022  \n",
       "4   https://static.data.gouv.fr/resources/occupati...  lamb93  2020  \n",
       "..                                                ...     ...   ...  \n",
       "58  https://static.data.gouv.fr/resources/occupati...  lamb93  2021  \n",
       "59  https://static.data.gouv.fr/resources/occupati...  lamb93  2021  \n",
       "60  https://static.data.gouv.fr/resources/occupati...  lamb93  2021  \n",
       "61  https://static.data.gouv.fr/resources/occupati...  lamb93  2021  \n",
       "62  https://static.data.gouv.fr/resources/occupati...  lamb93  2021  \n",
       "\n",
       "[63 rows x 6 columns]"
      ]
     },
     "execution_count": 130,
     "metadata": {},
     "output_type": "execute_result"
    }
   ],
   "source": [
    "first_rows"
   ]
  }
 ],
 "metadata": {
  "kernelspec": {
   "display_name": "Python 3 (ipykernel)",
   "language": "python",
   "name": "python3"
  },
  "language_info": {
   "codemirror_mode": {
    "name": "ipython",
    "version": 3
   },
   "file_extension": ".py",
   "mimetype": "text/x-python",
   "name": "python",
   "nbconvert_exporter": "python",
   "pygments_lexer": "ipython3",
   "version": "3.9.7"
  }
 },
 "nbformat": 4,
 "nbformat_minor": 5
}
